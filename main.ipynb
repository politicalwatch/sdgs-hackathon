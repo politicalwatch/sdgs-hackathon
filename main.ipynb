{
 "cells": [
  {
   "cell_type": "markdown",
   "metadata": {},
   "source": [
    "# Import libraries"
   ]
  },
  {
   "cell_type": "markdown",
   "metadata": {},
   "source": [
    "## TODO: move to requirements.txt"
   ]
  },
  {
   "cell_type": "code",
   "execution_count": 1,
   "metadata": {},
   "outputs": [
    {
     "name": "stdout",
     "output_type": "stream",
     "text": [
      "Requirement already satisfied: stop-words in c:\\users\\saox\\anaconda3\\lib\\site-packages (2018.7.23)\n"
     ]
    },
    {
     "name": "stderr",
     "output_type": "stream",
     "text": [
      "WARNING: You are using pip version 21.0.1; however, version 21.2.4 is available.\n",
      "You should consider upgrading via the 'c:\\users\\saox\\anaconda3\\python.exe -m pip install --upgrade pip' command.\n"
     ]
    },
    {
     "name": "stdout",
     "output_type": "stream",
     "text": [
      "Requirement already satisfied: wordcloud in c:\\users\\saox\\anaconda3\\lib\\site-packages (1.8.1)\n",
      "Requirement already satisfied: pillow in c:\\users\\saox\\appdata\\roaming\\python\\python37\\site-packages (from wordcloud) (8.1.0)\n",
      "Requirement already satisfied: numpy>=1.6.1 in c:\\users\\saox\\anaconda3\\lib\\site-packages (from wordcloud) (1.19.1)\n",
      "Requirement already satisfied: matplotlib in c:\\users\\saox\\appdata\\roaming\\python\\python37\\site-packages (from wordcloud) (3.3.3)\n",
      "Requirement already satisfied: cycler>=0.10 in c:\\users\\saox\\anaconda3\\lib\\site-packages (from matplotlib->wordcloud) (0.10.0)\n",
      "Requirement already satisfied: python-dateutil>=2.1 in c:\\users\\saox\\anaconda3\\lib\\site-packages (from matplotlib->wordcloud) (2.8.1)\n",
      "Requirement already satisfied: kiwisolver>=1.0.1 in c:\\users\\saox\\anaconda3\\lib\\site-packages (from matplotlib->wordcloud) (1.3.0)\n",
      "Requirement already satisfied: pyparsing!=2.0.4,!=2.1.2,!=2.1.6,>=2.0.3 in c:\\users\\saox\\anaconda3\\lib\\site-packages (from matplotlib->wordcloud) (2.4.7)\n",
      "Requirement already satisfied: six in c:\\users\\saox\\anaconda3\\lib\\site-packages (from cycler>=0.10->matplotlib->wordcloud) (1.15.0)\n"
     ]
    },
    {
     "name": "stderr",
     "output_type": "stream",
     "text": [
      "WARNING: You are using pip version 21.0.1; however, version 21.2.4 is available.\n",
      "You should consider upgrading via the 'c:\\users\\saox\\anaconda3\\python.exe -m pip install --upgrade pip' command.\n"
     ]
    },
    {
     "name": "stdout",
     "output_type": "stream",
     "text": [
      "Requirement already satisfied: stanza in c:\\users\\saox\\anaconda3\\lib\\site-packages (1.2.3)\n",
      "Requirement already satisfied: numpy in c:\\users\\saox\\anaconda3\\lib\\site-packages (from stanza) (1.19.1)\n",
      "Requirement already satisfied: protobuf in c:\\users\\saox\\anaconda3\\lib\\site-packages (from stanza) (3.11.3)\n",
      "Requirement already satisfied: torch>=1.3.0 in c:\\users\\saox\\anaconda3\\lib\\site-packages (from stanza) (1.7.1)\n",
      "Requirement already satisfied: requests in c:\\users\\saox\\appdata\\roaming\\python\\python37\\site-packages (from stanza) (2.25.1)\n",
      "Requirement already satisfied: tqdm in c:\\users\\saox\\anaconda3\\lib\\site-packages (from stanza) (4.54.1)\n",
      "Requirement already satisfied: typing-extensions in c:\\users\\saox\\anaconda3\\lib\\site-packages (from torch>=1.3.0->stanza) (3.7.4.3)\n",
      "Requirement already satisfied: setuptools in c:\\users\\saox\\anaconda3\\lib\\site-packages (from protobuf->stanza) (51.0.0.post20201207)\n",
      "Requirement already satisfied: six>=1.9 in c:\\users\\saox\\anaconda3\\lib\\site-packages (from protobuf->stanza) (1.15.0)\n",
      "Requirement already satisfied: idna<3,>=2.5 in c:\\users\\saox\\anaconda3\\lib\\site-packages (from requests->stanza) (2.8)\n",
      "Requirement already satisfied: chardet<5,>=3.0.2 in c:\\users\\saox\\appdata\\roaming\\python\\python37\\site-packages (from requests->stanza) (4.0.0)\n",
      "Requirement already satisfied: urllib3<1.27,>=1.21.1 in c:\\users\\saox\\appdata\\roaming\\python\\python37\\site-packages (from requests->stanza) (1.25.11)\n",
      "Requirement already satisfied: certifi>=2017.4.17 in c:\\users\\saox\\anaconda3\\lib\\site-packages (from requests->stanza) (2020.12.5)\n"
     ]
    },
    {
     "name": "stderr",
     "output_type": "stream",
     "text": [
      "WARNING: You are using pip version 21.0.1; however, version 21.2.4 is available.\n",
      "You should consider upgrading via the 'c:\\users\\saox\\anaconda3\\python.exe -m pip install --upgrade pip' command.\n"
     ]
    },
    {
     "name": "stdout",
     "output_type": "stream",
     "text": [
      "Requirement already satisfied: spacy-stanza in c:\\users\\saox\\anaconda3\\lib\\site-packages (1.0.0)\n",
      "Requirement already satisfied: spacy<4.0.0,>=3.0.0 in c:\\users\\saox\\anaconda3\\lib\\site-packages (from spacy-stanza) (3.1.3)\n",
      "Requirement already satisfied: stanza<1.3.0,>=1.2.0 in c:\\users\\saox\\anaconda3\\lib\\site-packages (from spacy-stanza) (1.2.3)\n",
      "Requirement already satisfied: typing-extensions<4.0.0.0,>=3.7.4 in c:\\users\\saox\\anaconda3\\lib\\site-packages (from spacy<4.0.0,>=3.0.0->spacy-stanza) (3.7.4.3)\n",
      "Requirement already satisfied: requests<3.0.0,>=2.13.0 in c:\\users\\saox\\appdata\\roaming\\python\\python37\\site-packages (from spacy<4.0.0,>=3.0.0->spacy-stanza) (2.25.1)\n",
      "Requirement already satisfied: packaging>=20.0 in c:\\users\\saox\\appdata\\roaming\\python\\python37\\site-packages (from spacy<4.0.0,>=3.0.0->spacy-stanza) (20.8)\n",
      "Requirement already satisfied: preshed<3.1.0,>=3.0.2 in c:\\users\\saox\\anaconda3\\lib\\site-packages (from spacy<4.0.0,>=3.0.0->spacy-stanza) (3.0.5)\n",
      "Requirement already satisfied: setuptools in c:\\users\\saox\\anaconda3\\lib\\site-packages (from spacy<4.0.0,>=3.0.0->spacy-stanza) (51.0.0.post20201207)\n",
      "Requirement already satisfied: pydantic!=1.8,!=1.8.1,<1.9.0,>=1.7.4 in c:\\users\\saox\\anaconda3\\lib\\site-packages (from spacy<4.0.0,>=3.0.0->spacy-stanza) (1.8.2)\n",
      "Requirement already satisfied: srsly<3.0.0,>=2.4.1 in c:\\users\\saox\\anaconda3\\lib\\site-packages (from spacy<4.0.0,>=3.0.0->spacy-stanza) (2.4.1)\n",
      "Requirement already satisfied: wasabi<1.1.0,>=0.8.1 in c:\\users\\saox\\anaconda3\\lib\\site-packages (from spacy<4.0.0,>=3.0.0->spacy-stanza) (0.8.2)\n",
      "Requirement already satisfied: tqdm<5.0.0,>=4.38.0 in c:\\users\\saox\\anaconda3\\lib\\site-packages (from spacy<4.0.0,>=3.0.0->spacy-stanza) (4.54.1)\n",
      "Requirement already satisfied: thinc<8.1.0,>=8.0.9 in c:\\users\\saox\\anaconda3\\lib\\site-packages (from spacy<4.0.0,>=3.0.0->spacy-stanza) (8.0.10)\n",
      "Requirement already satisfied: cymem<2.1.0,>=2.0.2 in c:\\users\\saox\\anaconda3\\lib\\site-packages (from spacy<4.0.0,>=3.0.0->spacy-stanza) (2.0.5)\n",
      "Requirement already satisfied: typer<0.5.0,>=0.3.0 in c:\\users\\saox\\anaconda3\\lib\\site-packages (from spacy<4.0.0,>=3.0.0->spacy-stanza) (0.4.0)\n",
      "Requirement already satisfied: numpy>=1.15.0 in c:\\users\\saox\\anaconda3\\lib\\site-packages (from spacy<4.0.0,>=3.0.0->spacy-stanza) (1.19.1)\n",
      "Requirement already satisfied: catalogue<2.1.0,>=2.0.6 in c:\\users\\saox\\anaconda3\\lib\\site-packages (from spacy<4.0.0,>=3.0.0->spacy-stanza) (2.0.6)\n",
      "Requirement already satisfied: jinja2 in c:\\users\\saox\\anaconda3\\lib\\site-packages (from spacy<4.0.0,>=3.0.0->spacy-stanza) (2.11.2)\n",
      "Requirement already satisfied: murmurhash<1.1.0,>=0.28.0 in c:\\users\\saox\\anaconda3\\lib\\site-packages (from spacy<4.0.0,>=3.0.0->spacy-stanza) (1.0.5)\n",
      "Requirement already satisfied: pathy>=0.3.5 in c:\\users\\saox\\anaconda3\\lib\\site-packages (from spacy<4.0.0,>=3.0.0->spacy-stanza) (0.6.0)\n",
      "Requirement already satisfied: blis<0.8.0,>=0.4.0 in c:\\users\\saox\\anaconda3\\lib\\site-packages (from spacy<4.0.0,>=3.0.0->spacy-stanza) (0.7.4)\n",
      "Requirement already satisfied: spacy-legacy<3.1.0,>=3.0.8 in c:\\users\\saox\\anaconda3\\lib\\site-packages (from spacy<4.0.0,>=3.0.0->spacy-stanza) (3.0.8)\n",
      "Requirement already satisfied: zipp>=0.5 in c:\\users\\saox\\anaconda3\\lib\\site-packages (from catalogue<2.1.0,>=2.0.6->spacy<4.0.0,>=3.0.0->spacy-stanza) (3.4.0)\n",
      "Requirement already satisfied: pyparsing>=2.0.2 in c:\\users\\saox\\anaconda3\\lib\\site-packages (from packaging>=20.0->spacy<4.0.0,>=3.0.0->spacy-stanza) (2.4.7)\n",
      "Requirement already satisfied: smart-open<6.0.0,>=5.0.0 in c:\\users\\saox\\anaconda3\\lib\\site-packages (from pathy>=0.3.5->spacy<4.0.0,>=3.0.0->spacy-stanza) (5.2.1)\n",
      "Requirement already satisfied: idna<3,>=2.5 in c:\\users\\saox\\anaconda3\\lib\\site-packages (from requests<3.0.0,>=2.13.0->spacy<4.0.0,>=3.0.0->spacy-stanza) (2.8)\n",
      "Requirement already satisfied: certifi>=2017.4.17 in c:\\users\\saox\\anaconda3\\lib\\site-packages (from requests<3.0.0,>=2.13.0->spacy<4.0.0,>=3.0.0->spacy-stanza) (2020.12.5)\n",
      "Requirement already satisfied: chardet<5,>=3.0.2 in c:\\users\\saox\\appdata\\roaming\\python\\python37\\site-packages (from requests<3.0.0,>=2.13.0->spacy<4.0.0,>=3.0.0->spacy-stanza) (4.0.0)\n",
      "Requirement already satisfied: urllib3<1.27,>=1.21.1 in c:\\users\\saox\\appdata\\roaming\\python\\python37\\site-packages (from requests<3.0.0,>=2.13.0->spacy<4.0.0,>=3.0.0->spacy-stanza) (1.25.11)\n",
      "Requirement already satisfied: torch>=1.3.0 in c:\\users\\saox\\anaconda3\\lib\\site-packages (from stanza<1.3.0,>=1.2.0->spacy-stanza) (1.7.1)\n",
      "Requirement already satisfied: protobuf in c:\\users\\saox\\anaconda3\\lib\\site-packages (from stanza<1.3.0,>=1.2.0->spacy-stanza) (3.11.3)\n",
      "Requirement already satisfied: click<9.0.0,>=7.1.1 in c:\\users\\saox\\anaconda3\\lib\\site-packages (from typer<0.5.0,>=0.3.0->spacy<4.0.0,>=3.0.0->spacy-stanza) (7.1.2)\n",
      "Requirement already satisfied: MarkupSafe>=0.23 in c:\\users\\saox\\anaconda3\\lib\\site-packages (from jinja2->spacy<4.0.0,>=3.0.0->spacy-stanza) (1.1.1)\n",
      "Requirement already satisfied: six>=1.9 in c:\\users\\saox\\anaconda3\\lib\\site-packages (from protobuf->stanza<1.3.0,>=1.2.0->spacy-stanza) (1.15.0)\n"
     ]
    },
    {
     "name": "stderr",
     "output_type": "stream",
     "text": [
      "WARNING: You are using pip version 21.0.1; however, version 21.2.4 is available.\n",
      "You should consider upgrading via the 'c:\\users\\saox\\anaconda3\\python.exe -m pip install --upgrade pip' command.\n"
     ]
    }
   ],
   "source": [
    "!pip install stop-words\n",
    "!pip install wordcloud\n",
    "!pip install stanza\n",
    "!pip install spacy-stanza"
   ]
  },
  {
   "cell_type": "code",
   "execution_count": 3,
   "metadata": {},
   "outputs": [],
   "source": [
    "import pandas as pd\n",
    "import numpy as np\n",
    "import re\n",
    "import unidecode\n",
    "from nltk.probability import FreqDist\n",
    "from nltk.corpus import stopwords as swords\n",
    "from stop_words import get_stop_words\n",
    "from sklearn.feature_extraction.text import TfidfVectorizer\n",
    "import pickle\n",
    "import stanza\n",
    "import spacy_stanza\n",
    "import itertools\n",
    "import nltk\n",
    "nltk.download('stopwords')\n",
    "# Download the stanza model if necessary\n",
    "stanza.download(\"es\")\n",
    "\n",
    "# Initialize the pipeline\n",
    "nlp = spacy_stanza.load_pipeline(\"es\")"
   ]
  },
  {
   "cell_type": "markdown",
   "metadata": {},
   "source": [
    "# Load the dataset"
   ]
  },
  {
   "cell_type": "code",
   "execution_count": 4,
   "metadata": {},
   "outputs": [],
   "source": [
    "df = pd.read_pickle('initiatives.pkl') "
   ]
  },
  {
   "cell_type": "code",
   "execution_count": 5,
   "metadata": {},
   "outputs": [
    {
     "data": {
      "text/html": [
       "<div>\n",
       "<style scoped>\n",
       "    .dataframe tbody tr th:only-of-type {\n",
       "        vertical-align: middle;\n",
       "    }\n",
       "\n",
       "    .dataframe tbody tr th {\n",
       "        vertical-align: top;\n",
       "    }\n",
       "\n",
       "    .dataframe thead th {\n",
       "        text-align: right;\n",
       "    }\n",
       "</style>\n",
       "<table border=\"1\" class=\"dataframe\">\n",
       "  <thead>\n",
       "    <tr style=\"text-align: right;\">\n",
       "      <th></th>\n",
       "      <th>_id</th>\n",
       "      <th>author_parliamentarygroups</th>\n",
       "      <th>created</th>\n",
       "      <th>initiative_type</th>\n",
       "      <th>initiative_type_alt</th>\n",
       "      <th>reference</th>\n",
       "      <th>status</th>\n",
       "      <th>tagged</th>\n",
       "      <th>title</th>\n",
       "      <th>updated</th>\n",
       "      <th>url</th>\n",
       "      <th>tags</th>\n",
       "      <th>topics</th>\n",
       "      <th>history</th>\n",
       "      <th>author_others</th>\n",
       "      <th>place</th>\n",
       "      <th>content</th>\n",
       "      <th>extra</th>\n",
       "      <th>author_deputies</th>\n",
       "    </tr>\n",
       "  </thead>\n",
       "  <tbody>\n",
       "    <tr>\n",
       "      <th>0</th>\n",
       "      <td>8340a50c3e322491545cf6c40b0b3d29ed03cb85</td>\n",
       "      <td>[Grupo Parlamentario Ciudadanos]</td>\n",
       "      <td>{'$date': '2020-06-02T00:00:00Z'}</td>\n",
       "      <td>84</td>\n",
       "      <td>Moción de reprobación a miembros del Gobierno</td>\n",
       "      <td>084/000004</td>\n",
       "      <td>Desconocida</td>\n",
       "      <td>True</td>\n",
       "      <td>Reprobación del Ministro del Interior, don Fer...</td>\n",
       "      <td>{'$date': '2020-06-09T00:00:00Z'}</td>\n",
       "      <td>https://www.congreso.es/web/guest/indice-de-in...</td>\n",
       "      <td>[]</td>\n",
       "      <td>[]</td>\n",
       "      <td>NaN</td>\n",
       "      <td>NaN</td>\n",
       "      <td>NaN</td>\n",
       "      <td>NaN</td>\n",
       "      <td>NaN</td>\n",
       "      <td>NaN</td>\n",
       "    </tr>\n",
       "    <tr>\n",
       "      <th>1</th>\n",
       "      <td>06709837ef704e5aaacfa6ea400517c560ebdd53</td>\n",
       "      <td>[Grupo Parlamentario Republicano]</td>\n",
       "      <td>{'$date': '2021-03-18T00:00:00Z'}</td>\n",
       "      <td>84</td>\n",
       "      <td>Moción de reprobación a miembros del Gobierno</td>\n",
       "      <td>084/000022</td>\n",
       "      <td>Desconocida</td>\n",
       "      <td>True</td>\n",
       "      <td>Reprobación de la Ministra de Defensa.</td>\n",
       "      <td>{'$date': '2021-03-23T00:00:00Z'}</td>\n",
       "      <td>https://www.congreso.es/web/guest/indice-de-in...</td>\n",
       "      <td>[]</td>\n",
       "      <td>[]</td>\n",
       "      <td>NaN</td>\n",
       "      <td>NaN</td>\n",
       "      <td>NaN</td>\n",
       "      <td>NaN</td>\n",
       "      <td>NaN</td>\n",
       "      <td>NaN</td>\n",
       "    </tr>\n",
       "    <tr>\n",
       "      <th>2</th>\n",
       "      <td>08cee188414ee529ca4dc998340791bae832029f</td>\n",
       "      <td>[Grupo Parlamentario Popular]</td>\n",
       "      <td>{'$date': '2021-03-25T00:00:00Z'}</td>\n",
       "      <td>84</td>\n",
       "      <td>Moción de reprobación a miembros del Gobierno</td>\n",
       "      <td>084/000023</td>\n",
       "      <td>Desconocida</td>\n",
       "      <td>True</td>\n",
       "      <td>Reprobación de la Ministra de Educación y Form...</td>\n",
       "      <td>{'$date': '2021-04-06T00:00:00Z'}</td>\n",
       "      <td>https://www.congreso.es/web/guest/indice-de-in...</td>\n",
       "      <td>[]</td>\n",
       "      <td>[]</td>\n",
       "      <td>NaN</td>\n",
       "      <td>NaN</td>\n",
       "      <td>NaN</td>\n",
       "      <td>NaN</td>\n",
       "      <td>NaN</td>\n",
       "      <td>NaN</td>\n",
       "    </tr>\n",
       "    <tr>\n",
       "      <th>3</th>\n",
       "      <td>70e6ca135dfb404955c15cf109c2a3614951528f</td>\n",
       "      <td>[Grupo Parlamentario Ciudadanos]</td>\n",
       "      <td>{'$date': '2021-02-08T00:00:00Z'}</td>\n",
       "      <td>84</td>\n",
       "      <td>Moción de reprobación a miembros del Gobierno</td>\n",
       "      <td>084/000021</td>\n",
       "      <td>Desconocida</td>\n",
       "      <td>True</td>\n",
       "      <td>Reprobación del Vicepresidente Segundo del Gob...</td>\n",
       "      <td>{'$date': '2021-02-16T00:00:00Z'}</td>\n",
       "      <td>https://www.congreso.es/web/guest/indice-de-in...</td>\n",
       "      <td>[]</td>\n",
       "      <td>[]</td>\n",
       "      <td>NaN</td>\n",
       "      <td>NaN</td>\n",
       "      <td>NaN</td>\n",
       "      <td>NaN</td>\n",
       "      <td>NaN</td>\n",
       "      <td>NaN</td>\n",
       "    </tr>\n",
       "    <tr>\n",
       "      <th>4</th>\n",
       "      <td>48643b81ce1cd97cbe74ceb711eaafb7ead9241f</td>\n",
       "      <td>[Grupo Parlamentario Popular]</td>\n",
       "      <td>{'$date': '2020-06-02T00:00:00Z'}</td>\n",
       "      <td>84</td>\n",
       "      <td>Moción de reprobación a miembros del Gobierno</td>\n",
       "      <td>084/000003</td>\n",
       "      <td>Desconocida</td>\n",
       "      <td>True</td>\n",
       "      <td>Reprobación del Ministro del Interior.</td>\n",
       "      <td>{'$date': '2020-06-09T00:00:00Z'}</td>\n",
       "      <td>https://www.congreso.es/web/guest/indice-de-in...</td>\n",
       "      <td>[]</td>\n",
       "      <td>[]</td>\n",
       "      <td>NaN</td>\n",
       "      <td>NaN</td>\n",
       "      <td>NaN</td>\n",
       "      <td>NaN</td>\n",
       "      <td>NaN</td>\n",
       "      <td>NaN</td>\n",
       "    </tr>\n",
       "  </tbody>\n",
       "</table>\n",
       "</div>"
      ],
      "text/plain": [
       "                                        _id  \\\n",
       "0  8340a50c3e322491545cf6c40b0b3d29ed03cb85   \n",
       "1  06709837ef704e5aaacfa6ea400517c560ebdd53   \n",
       "2  08cee188414ee529ca4dc998340791bae832029f   \n",
       "3  70e6ca135dfb404955c15cf109c2a3614951528f   \n",
       "4  48643b81ce1cd97cbe74ceb711eaafb7ead9241f   \n",
       "\n",
       "          author_parliamentarygroups                            created  \\\n",
       "0   [Grupo Parlamentario Ciudadanos]  {'$date': '2020-06-02T00:00:00Z'}   \n",
       "1  [Grupo Parlamentario Republicano]  {'$date': '2021-03-18T00:00:00Z'}   \n",
       "2      [Grupo Parlamentario Popular]  {'$date': '2021-03-25T00:00:00Z'}   \n",
       "3   [Grupo Parlamentario Ciudadanos]  {'$date': '2021-02-08T00:00:00Z'}   \n",
       "4      [Grupo Parlamentario Popular]  {'$date': '2020-06-02T00:00:00Z'}   \n",
       "\n",
       "   initiative_type                            initiative_type_alt   reference  \\\n",
       "0               84  Moción de reprobación a miembros del Gobierno  084/000004   \n",
       "1               84  Moción de reprobación a miembros del Gobierno  084/000022   \n",
       "2               84  Moción de reprobación a miembros del Gobierno  084/000023   \n",
       "3               84  Moción de reprobación a miembros del Gobierno  084/000021   \n",
       "4               84  Moción de reprobación a miembros del Gobierno  084/000003   \n",
       "\n",
       "        status  tagged                                              title  \\\n",
       "0  Desconocida    True  Reprobación del Ministro del Interior, don Fer...   \n",
       "1  Desconocida    True             Reprobación de la Ministra de Defensa.   \n",
       "2  Desconocida    True  Reprobación de la Ministra de Educación y Form...   \n",
       "3  Desconocida    True  Reprobación del Vicepresidente Segundo del Gob...   \n",
       "4  Desconocida    True             Reprobación del Ministro del Interior.   \n",
       "\n",
       "                             updated  \\\n",
       "0  {'$date': '2020-06-09T00:00:00Z'}   \n",
       "1  {'$date': '2021-03-23T00:00:00Z'}   \n",
       "2  {'$date': '2021-04-06T00:00:00Z'}   \n",
       "3  {'$date': '2021-02-16T00:00:00Z'}   \n",
       "4  {'$date': '2020-06-09T00:00:00Z'}   \n",
       "\n",
       "                                                 url tags topics history  \\\n",
       "0  https://www.congreso.es/web/guest/indice-de-in...   []     []     NaN   \n",
       "1  https://www.congreso.es/web/guest/indice-de-in...   []     []     NaN   \n",
       "2  https://www.congreso.es/web/guest/indice-de-in...   []     []     NaN   \n",
       "3  https://www.congreso.es/web/guest/indice-de-in...   []     []     NaN   \n",
       "4  https://www.congreso.es/web/guest/indice-de-in...   []     []     NaN   \n",
       "\n",
       "  author_others place content extra author_deputies  \n",
       "0           NaN   NaN     NaN   NaN             NaN  \n",
       "1           NaN   NaN     NaN   NaN             NaN  \n",
       "2           NaN   NaN     NaN   NaN             NaN  \n",
       "3           NaN   NaN     NaN   NaN             NaN  \n",
       "4           NaN   NaN     NaN   NaN             NaN  "
      ]
     },
     "execution_count": 5,
     "metadata": {},
     "output_type": "execute_result"
    }
   ],
   "source": [
    "df.head()"
   ]
  },
  {
   "cell_type": "code",
   "execution_count": 6,
   "metadata": {},
   "outputs": [],
   "source": [
    "# If content is not present, use the title as content\n",
    "df['content_coalesce'] = df['content'].combine_first(df['title'])"
   ]
  },
  {
   "cell_type": "code",
   "execution_count": 7,
   "metadata": {},
   "outputs": [
    {
     "data": {
      "text/html": [
       "<div>\n",
       "<style scoped>\n",
       "    .dataframe tbody tr th:only-of-type {\n",
       "        vertical-align: middle;\n",
       "    }\n",
       "\n",
       "    .dataframe tbody tr th {\n",
       "        vertical-align: top;\n",
       "    }\n",
       "\n",
       "    .dataframe thead th {\n",
       "        text-align: right;\n",
       "    }\n",
       "</style>\n",
       "<table border=\"1\" class=\"dataframe\">\n",
       "  <thead>\n",
       "    <tr style=\"text-align: right;\">\n",
       "      <th></th>\n",
       "      <th>content_coalesce</th>\n",
       "      <th>title</th>\n",
       "      <th>content</th>\n",
       "    </tr>\n",
       "  </thead>\n",
       "  <tbody>\n",
       "    <tr>\n",
       "      <th>0</th>\n",
       "      <td>Reprobación del Ministro del Interior, don Fer...</td>\n",
       "      <td>Reprobación del Ministro del Interior, don Fer...</td>\n",
       "      <td>NaN</td>\n",
       "    </tr>\n",
       "    <tr>\n",
       "      <th>1</th>\n",
       "      <td>Reprobación de la Ministra de Defensa.</td>\n",
       "      <td>Reprobación de la Ministra de Defensa.</td>\n",
       "      <td>NaN</td>\n",
       "    </tr>\n",
       "    <tr>\n",
       "      <th>2</th>\n",
       "      <td>Reprobación de la Ministra de Educación y Form...</td>\n",
       "      <td>Reprobación de la Ministra de Educación y Form...</td>\n",
       "      <td>NaN</td>\n",
       "    </tr>\n",
       "    <tr>\n",
       "      <th>3</th>\n",
       "      <td>Reprobación del Vicepresidente Segundo del Gob...</td>\n",
       "      <td>Reprobación del Vicepresidente Segundo del Gob...</td>\n",
       "      <td>NaN</td>\n",
       "    </tr>\n",
       "    <tr>\n",
       "      <th>4</th>\n",
       "      <td>Reprobación del Ministro del Interior.</td>\n",
       "      <td>Reprobación del Ministro del Interior.</td>\n",
       "      <td>NaN</td>\n",
       "    </tr>\n",
       "    <tr>\n",
       "      <th>...</th>\n",
       "      <td>...</td>\n",
       "      <td>...</td>\n",
       "      <td>...</td>\n",
       "    </tr>\n",
       "    <tr>\n",
       "      <th>110187</th>\n",
       "      <td>Recurso de inconstitucionalidad número 2379/20...</td>\n",
       "      <td>Recurso de inconstitucionalidad número 2379/20...</td>\n",
       "      <td>NaN</td>\n",
       "    </tr>\n",
       "    <tr>\n",
       "      <th>110188</th>\n",
       "      <td>Sentencia dictada por el citado Tribunal en el...</td>\n",
       "      <td>Sentencia dictada por el citado Tribunal en el...</td>\n",
       "      <td>NaN</td>\n",
       "    </tr>\n",
       "    <tr>\n",
       "      <th>110189</th>\n",
       "      <td>Cuestión de inconstitucionalidad número 3523/2...</td>\n",
       "      <td>Cuestión de inconstitucionalidad número 3523/2...</td>\n",
       "      <td>NaN</td>\n",
       "    </tr>\n",
       "    <tr>\n",
       "      <th>110190</th>\n",
       "      <td>Informe de Gestión del ejercicio 2020.</td>\n",
       "      <td>Informe de Gestión del ejercicio 2020.</td>\n",
       "      <td>NaN</td>\n",
       "    </tr>\n",
       "    <tr>\n",
       "      <th>110191</th>\n",
       "      <td>Remisión del dictamen motivado del citado Parl...</td>\n",
       "      <td>Remisión del dictamen motivado del citado Parl...</td>\n",
       "      <td>NaN</td>\n",
       "    </tr>\n",
       "  </tbody>\n",
       "</table>\n",
       "<p>13617 rows × 3 columns</p>\n",
       "</div>"
      ],
      "text/plain": [
       "                                         content_coalesce  \\\n",
       "0       Reprobación del Ministro del Interior, don Fer...   \n",
       "1                  Reprobación de la Ministra de Defensa.   \n",
       "2       Reprobación de la Ministra de Educación y Form...   \n",
       "3       Reprobación del Vicepresidente Segundo del Gob...   \n",
       "4                  Reprobación del Ministro del Interior.   \n",
       "...                                                   ...   \n",
       "110187  Recurso de inconstitucionalidad número 2379/20...   \n",
       "110188  Sentencia dictada por el citado Tribunal en el...   \n",
       "110189  Cuestión de inconstitucionalidad número 3523/2...   \n",
       "110190             Informe de Gestión del ejercicio 2020.   \n",
       "110191  Remisión del dictamen motivado del citado Parl...   \n",
       "\n",
       "                                                    title content  \n",
       "0       Reprobación del Ministro del Interior, don Fer...     NaN  \n",
       "1                  Reprobación de la Ministra de Defensa.     NaN  \n",
       "2       Reprobación de la Ministra de Educación y Form...     NaN  \n",
       "3       Reprobación del Vicepresidente Segundo del Gob...     NaN  \n",
       "4                  Reprobación del Ministro del Interior.     NaN  \n",
       "...                                                   ...     ...  \n",
       "110187  Recurso de inconstitucionalidad número 2379/20...     NaN  \n",
       "110188  Sentencia dictada por el citado Tribunal en el...     NaN  \n",
       "110189  Cuestión de inconstitucionalidad número 3523/2...     NaN  \n",
       "110190             Informe de Gestión del ejercicio 2020.     NaN  \n",
       "110191  Remisión del dictamen motivado del citado Parl...     NaN  \n",
       "\n",
       "[13617 rows x 3 columns]"
      ]
     },
     "execution_count": 7,
     "metadata": {},
     "output_type": "execute_result"
    }
   ],
   "source": [
    "# test\n",
    "df[df['content'].isna()][['content_coalesce','title','content']]"
   ]
  },
  {
   "cell_type": "code",
   "execution_count": 8,
   "metadata": {},
   "outputs": [],
   "source": [
    "# Here we flatten and then create lists of the individual words\n",
    "# df['lists_content_coalesce'] = [''.join(l).split(\" \") for l in df['content_coalesce']]"
   ]
  },
  {
   "cell_type": "code",
   "execution_count": 9,
   "metadata": {},
   "outputs": [],
   "source": [
    "# THIS FLATTENS\n",
    "df['content_coalesce'] = [''.join(l) for l in df['content_coalesce']]"
   ]
  },
  {
   "cell_type": "markdown",
   "metadata": {},
   "source": [
    "# Define helper functions"
   ]
  },
  {
   "cell_type": "code",
   "execution_count": 19,
   "metadata": {},
   "outputs": [],
   "source": [
    "def create_df_from_json(file_path, columns_to_keep=['content','title','initiative_type_alt'],field_name='initiatives'):\n",
    "    with open(file_path,'r', encoding=\"utf8\") as f:\n",
    "        data = json.loads(f.read())\n",
    "    data_frame = pd.json_normalize(data,record_path=field_name)\n",
    "    data_frame = data_frame[columns_to_keep]\n",
    "    return(data_frame)\n",
    "\n",
    "def retrieve_stop_words():\n",
    "    spanish_stopwords = swords.words('spanish')\n",
    "    stop_words_spanish = get_stop_words('spanish')\n",
    "    stopwords = list(set(spanish_stopwords + stop_words_spanish))\n",
    "    return stopwords\n",
    "\n",
    "def space_out_your_text(row):\n",
    "    doc = nlp(row)\n",
    "    cleaned = \"\"\n",
    "    for token in doc:\n",
    "        if token.pos_ not in (\"PUNCT\",\"ADP\",\"SCONJ\",\"PRON\",\"CCONJ\"):\n",
    "            #print(token.text, token.lemma_, token.pos_, token.dep_)\n",
    "            cleaned+=token.lemma_+\" \"\n",
    "    return cleaned\n",
    "\n",
    "\n",
    "def remove_accents(row,column):\n",
    "    return unidecode.unidecode(row[column])\n",
    "\n",
    "#remove special characters\n",
    "def replace_special_char(row):\n",
    "    for word, initial in {\".\":\" \", \"-\":\" \",\"/\":\" \",\"@\":\" \",\"#\":\" \",\"(\":\" \",\")\":\" \",'\"' : \"\"}.items():\n",
    "        row = row.replace(word, initial) \n",
    "    return row\n",
    "\n",
    "def remove_stopwords(row, stopwords):\n",
    "    removed_stopwords = \" \".join([word for word in row.split(\" \") if word not in stopwords and word.replace(\" \",\"\")!=\"\"])\n",
    "    return removed_stopwords\n",
    "\n",
    "\n",
    "def remove_numbers(col):\n",
    "    return col.str.replace('\\d+', '')\n",
    "\n",
    "\n",
    "def unique_words(col):\n",
    "    words = col.str.lower().str.findall(\"\\w+\")\n",
    "    unique = set()\n",
    "\n",
    "    for x in words:\n",
    "        unique.update(x)\n",
    "    return unique\n",
    "\n",
    "\n",
    "def word_count(df):\n",
    "    tf = df['text'].apply(lambda x: FreqDist(x)).sum(axis = 0)\n",
    "    tf2 = dict(tf)\n",
    "    data_items = tf2.items()\n",
    "    data_list = list(data_items)\n",
    "    freq_dataframe = pd.DataFrame(data_list)\n",
    "    freq_dataframe.columns = ['Word','Counts']\n",
    "    freq_dataframe = freq_dataframe.sort_values(by=\"Counts\",ascending=False)\n",
    "    pd.set_option(\"max_rows\", None)\n",
    "    return freq_dataframe"
   ]
  },
  {
   "cell_type": "markdown",
   "metadata": {},
   "source": [
    "# Get stopwords"
   ]
  },
  {
   "cell_type": "code",
   "execution_count": 11,
   "metadata": {},
   "outputs": [],
   "source": [
    "stop_words = retrieve_stop_words()"
   ]
  },
  {
   "cell_type": "markdown",
   "metadata": {},
   "source": [
    "# Demo Wordcloud"
   ]
  },
  {
   "cell_type": "code",
   "execution_count": null,
   "metadata": {},
   "outputs": [],
   "source": [
    "from matplotlib import pyplot as plt\n",
    "from wordcloud import WordCloud, STOPWORDS, ImageColorGenerator\n",
    "\n",
    "# example usage: test_df = create_df_from_json('./small-batch.json')\n",
    "test_df = create_df_from_json('small-batch.json') \n",
    "\n",
    "grouped = test_df.groupby(\"initiative_type_alt\")['content'].apply(lambda tags: ','.join(tags))\n",
    "\n",
    "def show_cloud(i):\n",
    "    text = grouped[i]\n",
    "    wordcloud = WordCloud(max_font_size=50, max_words=100, background_color=\"white\").generate(text)\n",
    "    plt.figure(figsize=(12,5))\n",
    "    plt.imshow(wordcloud, interpolation='bilinear')\n",
    "    plt.axis(\"off\")\n",
    "    plt.show()\n",
    "\n",
    "for i, row in grouped.iteritems():\n",
    "    unique_id = i   \n",
    "    print(i)    \n",
    "    if len(grouped[i])>0:\n",
    "        show_cloud(i) "
   ]
  },
  {
   "cell_type": "markdown",
   "metadata": {},
   "source": [
    "# Apply transformations one-by-one"
   ]
  },
  {
   "cell_type": "code",
   "execution_count": 20,
   "metadata": {},
   "outputs": [
    {
     "name": "stdout",
     "output_type": "stream",
     "text": [
      "Nr of words: 693580\n"
     ]
    }
   ],
   "source": [
    "unique = unique_words(df['content_coalesce'])\n",
    "print(\"Nr of words: \" + str(len(list(unique))))"
   ]
  },
  {
   "cell_type": "code",
   "execution_count": 12,
   "metadata": {},
   "outputs": [
    {
     "data": {
      "text/plain": [
       "0    Reprobacion del Ministro del Interior, don Fer...\n",
       "1               Reprobacion de la Ministra de Defensa.\n",
       "2    Reprobacion de la Ministra de Educacion y Form...\n",
       "3    Reprobacion del Vicepresidente Segundo del Gob...\n",
       "4               Reprobacion del Ministro del Interior.\n",
       "Name: t1_no_accents, dtype: object"
      ]
     },
     "execution_count": 12,
     "metadata": {},
     "output_type": "execute_result"
    }
   ],
   "source": [
    "df['t1_no_accents'] = df.apply(lambda row:remove_accents(row,'content_coalesce'),axis=1)\n",
    "df['t1_no_accents'].head()"
   ]
  },
  {
   "cell_type": "code",
   "execution_count": 14,
   "metadata": {},
   "outputs": [
    {
     "data": {
      "text/plain": [
       "0    Reprobacion del Ministro del Interior, don Fer...\n",
       "1               Reprobacion de la Ministra de Defensa.\n",
       "2    Reprobacion de la Ministra de Educacion y Form...\n",
       "3    Reprobacion del Vicepresidente Segundo del Gob...\n",
       "4               Reprobacion del Ministro del Interior.\n",
       "Name: t2_no_numbers, dtype: object"
      ]
     },
     "execution_count": 14,
     "metadata": {},
     "output_type": "execute_result"
    }
   ],
   "source": [
    "df['t2_no_numbers'] = remove_numbers(df['t1_no_accents']) \n",
    "df['t2_no_numbers'].head()"
   ]
  },
  {
   "cell_type": "code",
   "execution_count": 15,
   "metadata": {},
   "outputs": [
    {
     "data": {
      "text/plain": [
       "0    Reprobacion del Ministro del Interior, don Fer...\n",
       "1               Reprobacion de la Ministra de Defensa \n",
       "2    Reprobacion de la Ministra de Educacion y Form...\n",
       "3    Reprobacion del Vicepresidente Segundo del Gob...\n",
       "4               Reprobacion del Ministro del Interior \n",
       "Name: t3_no_special_char, dtype: object"
      ]
     },
     "execution_count": 15,
     "metadata": {},
     "output_type": "execute_result"
    }
   ],
   "source": [
    "df['t3_no_special_char'] = df['t2_no_numbers'].apply(lambda row:replace_special_char(row))\n",
    "df['t3_no_special_char'].head()"
   ]
  },
  {
   "cell_type": "code",
   "execution_count": 16,
   "metadata": {},
   "outputs": [
    {
     "data": {
      "text/plain": [
       "0    reprobacion del ministro del interior, don fer...\n",
       "1               reprobacion de la ministra de defensa \n",
       "2    reprobacion de la ministra de educacion y form...\n",
       "3    reprobacion del vicepresidente segundo del gob...\n",
       "4               reprobacion del ministro del interior \n",
       "Name: t4_lowercase, dtype: object"
      ]
     },
     "execution_count": 16,
     "metadata": {},
     "output_type": "execute_result"
    }
   ],
   "source": [
    "df['t4_lowercase'] = df['t3_no_special_char'].str.lower()\n",
    "df['t4_lowercase'].head()"
   ]
  },
  {
   "cell_type": "code",
   "execution_count": 17,
   "metadata": {},
   "outputs": [],
   "source": [
    "df[\"unigrams\"] = df[\"t4_lowercase\"].apply(nltk.word_tokenize)"
   ]
  },
  {
   "cell_type": "code",
   "execution_count": 18,
   "metadata": {},
   "outputs": [
    {
     "data": {
      "text/plain": [
       "0    [reprobacion, del, ministro, del, interior, ,,...\n",
       "1         [reprobacion, de, la, ministra, de, defensa]\n",
       "2    [reprobacion, de, la, ministra, de, educacion,...\n",
       "3    [reprobacion, del, vicepresidente, segundo, de...\n",
       "4          [reprobacion, del, ministro, del, interior]\n",
       "Name: unigrams, dtype: object"
      ]
     },
     "execution_count": 18,
     "metadata": {},
     "output_type": "execute_result"
    }
   ],
   "source": [
    "df[\"unigrams\"].head()"
   ]
  },
  {
   "cell_type": "code",
   "execution_count": 21,
   "metadata": {},
   "outputs": [
    {
     "data": {
      "text/plain": [
       "0    reprobacion ministro interior, don fernando gr...\n",
       "1                         reprobacion ministra defensa\n",
       "2    reprobacion ministra educacion formacion profe...\n",
       "3          reprobacion vicepresidente segundo gobierno\n",
       "4                        reprobacion ministro interior\n",
       "Name: t5_stopwords_removed, dtype: object"
      ]
     },
     "execution_count": 21,
     "metadata": {},
     "output_type": "execute_result"
    }
   ],
   "source": [
    "df['t5_stopwords_removed'] = df['t4_lowercase'].apply(lambda row:remove_stopwords(row, stop_words))\n",
    "df['t5_stopwords_removed'].head()"
   ]
  },
  {
   "cell_type": "code",
   "execution_count": 24,
   "metadata": {},
   "outputs": [
    {
     "name": "stderr",
     "output_type": "stream",
     "text": [
      "C:\\Users\\saox\\AppData\\Roaming\\Python\\Python37\\site-packages\\pandas\\core\\series.py:4200: UserWarning: Due to multiword token expansion or an alignment issue, the original text has been replaced by space-separated expanded tokens.\n",
      "  mapped = lib.map_infer(values, f, convert=convert_dtype)\n",
      "C:\\Users\\saox\\AppData\\Roaming\\Python\\Python37\\site-packages\\pandas\\core\\series.py:4200: UserWarning: Can't set named entities because of multi-word token expansion or because the character offsets don't map to valid tokens produced by the Stanza tokenizer:\n",
      "Words: ['bocg', 'congreso', 'diputados', ',', 'serie', 'b', ',', 'num', ',', 'cve', ':', 'bocg', 'b', 'pdfboletin', 'oficial', 'cortes', 'generalescongreso', 'diputadosxiv', 'legislaturaserie', 'b', ':', 'proposiciones', 'ley', 'diciembre', 'num', 'proposicion', 'ley', 'proposicion', 'ley', 'efectiva', 'igualdad', 'equiparacion', 'salarial', 'policias', 'espanol', 'corresponde', 'numeros', 'expediente', 'xii', 'legislatura', 'xiii', 'legislatura', 'presentada', 'don', 'natan', 'espinosa', 'perez', 'mesa', 'camara', ',', 'reunion', 'dia', 'hoy', ',', 'adoptado', 'acuerdo', 'indica', 'respecto', 'asunto', 'referencia', 'iniciativa', 'legislativa', 'popular', 'autor', ':', 'don', 'natan', 'espinosa', 'perez', 'proposicion', 'ley', 'efectiva', 'igualdad', 'equiparacion', 'salarial', 'policias', 'espanol', 'corresponde', 'numeros', 'expediente', 'xii', 'legislatura', 'xiii', 'legislatura', 'acuerdo', ':', 'cuenta', 'presente', 'iniciativa', 'supero', 'numero', 'minimo', 'firmas', 'electores', 'exigido', ',', 'publicar', 'texto', 'boletin', 'oficial', 'cortes', 'generales', 'trasladar', 'gobierno', 'efectos', 'articulos', 'delreglamento', 'camara', 'trasladar', 'comision', 'correspondiente', ',', 'vez', 'constituyan', 'comisiones', 'permanentes', 'legislativas', 'camara', ',', 'efectos', 'articulo', 'ley', 'organica', ',', 'mayo', ',', 'reguladora', 'iniciativa', 'legislativapopular', ',', 'cuenta', 'comparecencia', 'refiere', 'dicho', 'articulo', 'podra', 'tener', 'lugar', 'caracter', 'previo', 'finalizacion', 'plazo', 'previsto', 'citado', 'articulo', 'reglamento', 'camara', 'comunicar', 'acuerdo', 'senado', ',', 'junta', 'electoral', 'central', 'comision', 'promotora', 'ejecucion', 'dicho', 'acuerdo', 'ordena', 'publicacion', 'conformidad', 'articulo', 'reglamento', 'camara', 'palacio', 'congreso', 'diputados', ',', 'diciembre', 'p', 'd', 'secretario', 'general', 'congreso', 'diputados', ',', 'carlos', 'gutierrez', 'vicen', 'pagina', 'proposicion', 'ley', 'efectiva', 'igualdad', 'equiparacion', 'salarial', 'policias', 'espanolexposicion', 'motivosies', 'comun', 'denominador', 'referencia', 'crisis', 'economica', 'justificar', 'reduccion', 'congelacion', 'sueldos', 'salarios', 'funcionarios', 'publicos', 'trabajadores', 'crisis', 'economica', 'llegado', 'quedar', 'se', 'argumentototalizador', 'frente', 'pretensiones', 'mejora', 'sueldos', 'salarios', 'pese', 'declaraciones', 'publicas', 'gobierno', 'autoridades', 'economicas', 'destacando', 'recuperacion', 'economica', 'iilas', 'cifras', 'indicadores', 'macroeconomicos', 'ido', 'repuntando', 'positivamente', 'ultimos', 'meses', 'crecimiento', 'empleo', ',', 'mayor', 'acceso', 'credito', 'favorecido', 'culminacion', 'proceso', 'saneamiento', 'financiero', ',', 'asi', 'elmoderado', 'avance', 'precios', 'reducidos', 'tipos', 'interes', ',', 'redundado', 'proceso', 'desapalancamiento', 'empresas', 'hogares', ',', 'reactivando', 'crecimiento', 'economia', 'espanola', 'escenario', 'macroeconomico', 'registrado', 'elevado', 'dinamismo', 'crecimiento', 'pib', 'real', ',', '%', ',', 'prologando', 'se', 'primer', 'trimestre', ',', '%', 'superior', 'decima', 'trimestre', 'previo', 'encadenando', 'casi', 'tresanos', 'medio', 'tasa', 'positivas', 'consumo', 'privado', 'acelero', ',', '%', 'estabilizando', 'se', ',', 'registrando', 'ritmos', 'crecimiento', 'torno', ',', '%', 'junto', 'sector', 'turistico', 'demanda', 'nacional', ',', 'sigue', 'principal', 'locomotora', 'economia', 'espanola', ',', 'registrando', 'se', 'tasas', 'positivas', 'componentes', 'mas', 'destacados', 'demanda', 'nacional', 'dinamismo', 'gasto', 'enconsumo', 'privado', 'inversion', 'productiva', ',', 'anotando', 'se', ',', '%', ',', 'impulsado', 'favorable', 'comportamiento', 'renta', 'bruta', 'disponible', 'real', 'familias', ',', 'notable', 'creacion', 'empleo', ',', 'contencion', 'precios', 'mejora', 'confianza', 'delos', 'consumidores', 'contexto', 'favorables', 'condiciones', 'financieras', 'gasto', 'consumo', 'final', 'aapp', 'volumen', 'desacelero', ',', 'puntos', ',', 'anotar', 'incremento', 'medio', 'anual', ',', '%', ',', 'evolucion', 'proceso', 'consolidacion', 'fiscal', 'llevado', 'cabo', 'economia', 'espanola', 'deficit', 'publico', 'redujo', ',', '%', ',', '%', ',', 'excluyendo', 'se', 'ayuda', 'financiera', 'ascendio', ',', '%', 'pib', 'formacion', 'bruta', 'capital', 'fijo', 'experimento', 'incremento', 'medio', 'anual', ',', '%', ',', 'inferior', 'casi', 'tres', 'puntos', 'ano', 'anterior', ',', 'debido', 'desaceleracion', 'inversion', 'equipos', 'inversion', 'construccion', ',', 'que', 'registraron', 'tasas', '%', ',', '%', 'respectivamente', ',', 'inferior', ',', 'puntos', 'primer', 'trimestre', ',', 'inversion', 'bienes', 'equipo', 'construccion', 'repuntaron', 'anotar', 'tasas', 'interanuales', ',', '%', '%respectivamente', ',', 'frente', ',', '%', ',', '%', 'ultimo', 'trimestre', 'desapalancamiento', 'sector', 'privado', ',', 'redujo', 'deuda', 'mas', 'puntos', 'pib', ',', 'maximo', 'alcanzado', ',', 'situando', 'se', 'deuda', 'consolidad', 'sector', 'privado', 'financiero', ',', '%', 'pib', ',', 'cuarto', 'trimestre', 'de', ',', ',', '%', 'pib', 'terminos', 'consolidados', ',', 'niveles', 'similares', 'finales', 'zona', 'euro', 'compatible', 'dinamismo', 'credito', ',', 'registrando', 'nuevas', 'operaciones', 'hogares', 'pymes', 'demanda', 'neta', 'externa', 'aporto', ',', 'puntos', 'crecimiento', 'anual', 'pib', 'despues', 'dos', 'anos', 'contribuciones', 'negativas', ',', 'puntos', ',', 'contribucion', 'avance', 'interanual', 'pib', 'primer', 'trimestre', ',', 'puntos', ',', 'igual', 'cuarto', 'trimestre', 'pasado', 'ano', 'ello', 'debido', 'buen', 'comportamiento', 'exportaciones', 'bienes', 'servicios', ',', 'incrementaron', ',', '%', 'terminos', 'reales', ',', 'desaceler', 'nando', 'se', 'importaciones', 'reales', ',', 'puntos', ',', ',', '%', 'linea', 'ralentizacion', 'demanda', 'final', 'segun', 'previsiones', 'empleo', 'paro', 'epa', 'gobierno', 'espana', 'ministerio', 'economia', 'competitividad', 'empleo', 'incrementara', 'mas', ',', 'pasando', ',', ',', 'desempleo', 'descendera', 'mismo', 'periodo', ',', 'pasando', 'parados', ',', 'reduciendo', 'se', 'tasa', 'paro', '%', 'pagina', 'iiila', 'equiparacion', 'salarial', 'exigencia', 'justicia', 'distributiva', 'retribuir', 'mismos', 'trabajos', 'forma', 'igual', 'ofrece', 'resistencia', 'logica', ',', 'juridica', 'ello', 'diferencia', 'salarial', 'policias', 'espanol', 'constituye', 'evidente', 'incoherencia', 'resalta', 'particular', 'general', ';', 'si', 'tomamos', 'ejemplo', 'relacion', 'directa', 'seguridad', 'elcrecimiento', 'sector', 'turistico', 'puede', 'observar', 'se', 'crecimiento', 'beneficio', 'obtenido', 'ser', 'espana', 'paises', 'mas', 'seguros', 'mundo', ',', 'encima', 'francia', ',', 'italia', 'inglaterra', ',', 'traslada', 'ninguna', 'forma', 'servidoresdel', 'mantienen', 'congelacion', 'salarial', 'distancian', 'retribuciones', 'mossos', \"d'esquadra\", ',', 'policia', 'foral', 'ertzaintza', 'sector', 'turistico', ',', 'efecto', ',', 'principales', 'motores', 'crecimiento', 'economia', 'espanola', ',', 'incrementando', 'se', ',', '%', 'respecto', ',', 'ano', 'sorprendentemente', 'inigualable', ',', 'generando', 'nuevos', 'empleos', 'ritmo', 'de', 'el', ',', '%', 'demanda', 'extranjera', 'incremento', ',', '%', ',', 'reflejado', ',', 'millones', 'turistas', ',', ',', '%', 'ingresos', 'totales', 'turismo', ',', 'cuantificando', 'se', 'millones', 'pib', 'turistico', 'aportado', 'economia', 'espanola', 'elprimer', 'semestre', ',', '%', '[**********pagina', \"cuadro**********]iv'a\", 'igualdad', 'funciones', ',', 'igualdad', 'retribuciones', \"'\", 'simple', 'vista', 'parece', 'evidente', 'logico', ',', 'realidad', 'servidores', 'publicos', 'policia', 'nacional', 'guardia', 'civil', 'desempenan', 'funciones', 'poseen', 'todas', 'lascompetencias', 'materia', 'seguridad', 'agravante', 'senalada', 'recuperacion', 'economica', 'solo', 'traslada', 'policias', 'autonomicas', 'hace', 'casi', 'veinte', 'anos', 'tribunal', 'supremo', 'sentencia', 'junio', ',', 'afirmo', \"'\", 'no', 'objetivo', 'razonable', 'diferenciar', 'traves', 'nivel', 'profesional', 'complemento', 'especifico', 'puestos', 'trabajo', 'tienenexactamente', 'mismo', 'contenido', \"'\", 'doctrina', 'seguida', 'sentencia', 'tribunal', 'superior', 'justicia', 'cataluna', ',', 'sala', 'contencioso', ',', 'seccion', 'recurso', 'mayo', ',', 'sentencia', 'tribunal', 'supremo', 'junio', 'rec', ',', 'lasentencia', 'sala', 'contencioso', 'administrativo', 'tribunal', 'superior', 'justicia', 'castilla', 'leon', 'mayo', 'rec', ',', 'sentencia', 'tribunal', 'superior', 'justicia', 'cataluna', 'numero', 'junio', ',', 'lassentencias', 'tribunal', 'superior', 'justicia', 'baleares', 'num', 'noviembre', ',', 'num', 'enero', 'num', 'octubre', ',', 'sentencia', 'tribunal', 'superior', 'justicia', 'cataluna', 'num', ',', 'denoviembre', 'pagina', 'consideran', 'resoluciones', 'resenadas', 'discriminatorio', 'diferencia', 'retributiva', 'realizan', 'mismas', 'funciones', 'ello', 'independencia', 'nivel', 'ostente', 'funcionario', 'discriminacion', 'retributiva', 'injustificada', 'contradice', 'principio', 'igualdad', 'retributiva', ',', 'conectado', 'principio', 'igualdad', 'positivizado', 'articulos', 'constitucion', 'espanola', 'sentencias', 'dictadas', 'materia', 'vinculan', 'expresamente', 'derecho', 'retributivo', 'derecho', 'fundamental', ',', 'generico', 'igualdad', 'ley', 'art', 'constitucion', 'especifico', 'derecho', 'igualdad', 'acceso', 'lasfunciones', 'publicas', 'art', 'constitucion', ',', 'medida', 'si', 'alguien', 'cobra', 'menos', 'debe', 'agravio', 'comparativo', 'puede', 'desincentivando', 'permanencia', 'puesto', 'dicho', 'palabras', ',', 'otorgar', 'se', 'primacia', 'dato', 'tareas', 'efectivamente', 'realizadas', 'funcionarios', 'determinar', 'si', 'diferencia', 'retributiva', 'justa', 'o', ',', 'contrario', ',', 'discriminatoria', 'lesiva', 'derecho', 'laigualdad', 'art', 'ce', ',', 'precisamente', 'diferencias', 'retributivas', 'responden', 'realizacion', 'diferentes', 'cometidos', ',', 'vulnera', 'articulo', 'ce', 'definitiva', ',', 'jurisprudencia', 'entiende', 'si', 'prueba', 'funcionario', 'determinado', 'grupo', ',', 'departamento', 'seccion', 'desempena', 'puesto', 'rpt', 'asignado', 'determinado', 'nivel', 'realiza', 'identicas', 'funciones', 'otrofuncionario', 'atiende', 'nivel', 'superior', ',', 'es', ',', 'si', 'acredita', 'reparte', 'ambos', 'distincion', 'volumen', 'nivel', 'tecnico', 'conocimiento', 'mismo', 'trabajo', ',', 'produce', 'discriminacion', 'retributiva', 'respecto', 'funcionarios', 'unnivel', 'inferior', ',', 'puede', 'justificar', 'se', 'simple', 'discordancia', 'realidad', 'formal', 'rpt', 'hecho', 'efectivo', 'desempeno', 'mismo', 'trabajo', 'igualdad', 'situacion', 'factica', 'percepcion', 'retribuciones', 'inferioresno', 'amparada', 'derecho', 'discriminacion', 'retributiva', 'injustificada', 'hablamos', ',', 'conectada', 'necesariamente', 'teoria', 'enriquecimiento', 'injusto', 'administracion', ',', 'pues', 'forma', 'actuar', 'supone', 'enriquecimiento', 'injusto', 'cuanto', 'sinrespetar', 'distincion', 'funciones', 'comporta', 'distinta', 'graduacion', 'niveles', ',', 'obtiene', 'mismo', 'resultado', 'precio', 'mas', 'economico', ',', 'mismo', ',', 'aprovechando', 'recursos', 'personales', 'cuyo', 'coste', 'real', 'satisface', 'asi', 'pues', ',', 'la', 'administracion', 'elude', 'manera', 'mecanismos', 'legales', 'cobertura', 'funcionarios', 'categoria', 'adecuada', 'comisiones', 'servicios', ',', 'redistribuciones', 'efectivos', ',', 'permutas', ',', 'etc', 'decide', 'resolucion', 'expresa', 'bien', 'tacitacomplacencia', ',', 'funcionario', 'categoria', 'inferior', 'desempene', 'tales', 'funciones', 'propias', 'puesto', 'reservado', 'funcionarios', 'grupo', 'categoria', 'vease', 'sentencias', 'tribunal', 'superior', 'justicia', 'illes', 'balears', ',', 'sala', 'locontencioso', 'administrativo', ',', 'noviembre', 'rec', 'enero', 'rec', 'tanto', ',', 'si', 'existe', 'ecuacion', 'responsabilidad', 'retribucion', ',', 'es', ',', 'ejercicio', 'unas', 'determinadas', 'funciones', 'responda', 'unas', 'retribuciones', 'objetivamente', 'vinculadas', ',', 'amen', 'vulnerar', 'se', 'articulo', 'ce', ',', 'produciria', 'elenriquecimiento', 'injusto', 'administracion', ',', 'habria', 'beneficiado', 'actividad', 'desempenada', 'funcionario', 'determinado', 'puesto', 'trabajo', 'abonar', 'le', 'contraprestacion', 'retribuciones', 'complementarias', 'asignadas', 'mismo', 'si', 'asi', 'funcionarios', 'desempenan', 'tareas', 'iguales', 'nivel', 'superior', ',', 'mayor', 'razon', 'asistira', 'policia', 'nacional', 'guardia', 'civil', 'relacion', 'mossos', \"d'esquadra\", ',', 'policia', 'foral', 'ertzaintza', 'realiza', 'mastareas', 'funciones', 'plenas', 'competencias', 'materia', 'seguridad', ',', 'tal', 'muestra', 'modelo', 'policial', 'espanol', 'modelo', 'policial', 'espanol', 'ley', 'organica', ',', 'fuerzas', 'cuerpos', 'seguridad', ',', 'define', 'estructura', 'seguridad', 'publica', 'pais', 'ley', 'asigna', 'competencia', 'seguridad', 'publica', 'encomienda', 'mantenimiento', 'gobierno', 'nacion', ',', 'tambien', 'reconoce', 'participacion', 'comunidades', 'autonomas', ',', 'terminos', 'establecidos', 'respectivos', 'estatutos', ',', 'y', 'corporaciones', 'locales', 'tres', 'administraciones', 'procuran', 'mantenimiento', 'seguridad', 'publica', 'traves', 'fuerzas', 'cuerpos', 'seguridad', ',', 'estan', 'integradas', 'por:a', 'fuerzas', 'cuerpos', 'seguridad', 'estado', ',', 'dependen', 'gobierno', 'nacion', 'actuan', 'territorio', 'nacional', ',', 'formadas', 'por', ':', 'pagina', 'cuerpo', 'nacional', 'policia', ',', 'instituto', 'armado', 'naturaleza', 'civil', 'dependiente', 'ministerio', 'interior', ',', 'ejerce', 'funciones', 'capitales', 'provincia', 'nucleos', 'urbanos', 'determinados', 'gobierno', 'guardia', 'civil', ',', 'instituto', 'armado', 'naturaleza', 'militar', ',', 'dependiente', 'ministerio', 'interior', 'funciones', 'policiales', 'ministerio', 'defensa', 'cumplimiento', 'misiones', 'militares', 'tiempo', 'guerra', 'ydurante', 'sitio', 'actuara', 'bajo', 'dependencia', 'ultimo', 'departamento', 'ejerce', 'funciones', 'terminos', 'rurales', 'mar', 'territorial', 'bajo', 'autoridad', 'ministro', 'interior', ',', 'director', 'seguridad', 'compete', 'mando', 'direcciones', 'generales', 'policia', 'guardia', 'civil', 'cada', 'provincia', ',', 'gobernador', 'civil', 'ejerce', 'mando', 'directo', 'estoscuerpos', ',', 'sujeto', 'directrices', 'organos', 'citados', 'anteriormente', 'dependencia', 'funcional', 'unidades', 'policia', 'judicial', 'respecto', 'jueces', 'tribunales', 'ministerio', 'fiscal', 'b', 'policias', 'autonomicas', ',', 'institutos', 'armados', 'naturaleza', 'civil', ',', 'dependen', 'comunidades', 'autonomas', ',', 'ejercen', 'funciones', 'territorios', 'respectivos', 'comunidades', 'autonomicas', 'competencias', 'formar', 'policia', 'autonomica', ',', 'solo', 'tres', 'procedido', 'formacion', ':', 'policia', 'foral', 'navarra', 'mossos', \"d'esquadra\", 'cataluna', 'ertzaintza', 'pais', 'vasco', 'c', 'policias', 'locales', ',', 'institutos', 'armados', 'naturaleza', 'civil', ',', 'dependen', 'municipios', ',', 'ejercen', 'funciones', 'ambitos', 'territoriales', 'respectivos', 'articulo', 'lofcs', ',', 'otorga', 'comunidades', 'autonomas', 'importantes', 'competencias', 'coordinar', 'actuacion', 'policias', 'locales', ',', 'fijacion', 'criterios', 'seleccion', ',', 'formacion', ',', 'promocion', 'movilidad', ',', 'homogeneizacionde', 'medios', 'tecnicos', ',', 'uniformes', 'retribuciones', ';', 'establecimiento', 'normas', 'marco', 'habran', 'ajustar', 'se', 'reglamentos', 'municipales', ';', 'creacion', 'segun', 'articulo', 'ley', ',', 'municipios', 'podran', 'crear', 'propios', 'cuerpos', 'policia', ',', 'acuerdo', 'previsto', 'misma', ',', 'ley', 'bases', 'regimen', 'local', ',', 'legislacion', 'autonomica', 'lofcs', ',', 'establece', 'principios', 'basicos', 'actuacion', 'ciertas', 'disposiciones', 'estatutarias', 'comunes', 'cuerpos', 'fuerzas', 'seguridad', 'asi', ',', 'exige', 'adecuacion', 'ordenamiento', 'juridico', ',', 'debiendo', 'ajustar', 'actuacion', 'losprincipios', 'constitucionales', 'ley', 'estatuto', 'plantea', 'necesidad', 'formacion', 'profesional', 'permanente', ',', 'remuneracion', 'justa', ',', 'regimen', 'disciplinario', 'especifico', 'y', ',', 'cuestiones', ',', 'absoluta', 'prohibicion', 'ejercicio', 'delderecho', 'huelga', 'funciones', 'competencias', 'fuerzas', 'cuerpos', 'seguridad', 'estado', ',', 'policias', 'autonomicas', 'policias', 'locales', 'siguientes', ':', 'a', 'funciones', 'competencias', 'fuerzas', 'cuerpos', 'seguridad', 'estado', ':', 'el', 'articulo', 'lofcs', ',', 'establece', 'mision', 'proteger', 'libre', 'ejercicio', 'derechos', 'libertades', 'garantizar', 'seguridad', 'ciudadana', 'mediante', 'desempeno', 'funciones', ':', 'velar', 'cumplimiento', 'ley', 'proteccion', 'personas', 'bienes', 'proteccion', 'personalidades', ',', 'edificios', 'instalaciones', 'publicas', 'orden', 'publico', 'seguridad', 'ciudadana', 'prevencion', 'delincuencia', 'investigacion', 'delitos', 'policia', 'judicial', 'captar', ',', 'recibir', 'analizar', 'datos', 'puedan', 'servir', 'planificar', 'lucha', 'delincuencia', 'colaborar', 'servicios', 'proteccion', 'civil', 'articulo', 'ley', 'establece', 'distribucion', 'funcional', 'ambos', 'cuerpos', ',', 'atiende', 'siguientes', 'criterios', ':', 'pagina', 'funciones', 'cuerpo', 'nacional', 'policia', 'expedicion', 'dni', 'pasaportes', 'control', 'entrada', 'salida', 'territorio', 'nacional', 'espanoles', 'extranjeros', 'previstas', 'legislacion', 'extranjeria', 'investigacion', 'persecucion', 'delitos', 'relacionados', 'droga', 'colaboracion', 'policia', 'paises', 'control', 'servicios', 'privados', 'seguridad', 'funciones', 'guardia', 'civil', 'derivadas', 'legislacion', 'armas', 'explosivos', 'resguardo', 'fiscal', 'lucha', 'contrabando', 'vigilancia', 'trafico', ',', 'transito', 'transporte', 'vias', 'publicas', 'interurbanas', 'custodia', 'vias', 'comunicacion', ',', 'costas', ',', 'fronteras', ',', 'puertos', ',', 'aeropuertos', 'centros', 'instalaciones', 'que', ',', 'interes', 'requieran', 'relacionadas', 'legislacion', 'medio', 'ambiente', 'conduccion', 'interurbana', 'presos', 'detenidos', 'b', 'funciones', 'competencias', 'policias', 'autonomicas', 'articulo', 'lofcs', ',', 'clasifica', 'tres', 'grupos', 'funciones', 'que', ',', 'genericamente', ',', 'pueden', 'ejercer', 'policias', 'autonomicas', ':', 'caracter', 'propias', 'policia', 'administrativa', 'comunidad', 'autonomica', 'vigilar', 'proteger', 'personalidades', 'dependencias', 'autonomicas', 'uso', 'coaccion', 'ejecucion', 'forzosa', 'actos', 'disposiciones', 'comunidad', 'autonoma', 'colaboracion', 'fuerzas', 'cuerpos', 'seguridad', 'velar', 'cumplimiento', 'ley', 'garantizar', 'funcionamiento', 'servicios', 'publicos', 'esenciales', 'participar', 'funciones', 'policia', 'judicial', 'caracter', 'colaborador', 'fuerzas', 'cuerpos', 'seguridad', 'vigilar', 'espacios', 'publicos', ',', 'proteger', 'manifestaciones', 'mantener', 'orden', 'grandes', 'concentraciones', 'humanas', 'prestacion', 'simultanea', 'indiferenciada', 'fuerzas', 'cuerpos', 'seguridad', 'cooperacion', 'resolucion', 'amistosa', 'conflictos', 'privados', 'colaborar', 'servicios', 'proteccion', 'civil', 'velar', 'cumplimiento', 'normas', 'medio', 'ambiente', 'c', 'funciones', 'competencias', 'policias', 'locales', 'segun', 'articulo', 'ley', ',', 'policias', 'locales', 'corresponde', 'ejercer', 'siguiente', 'funciones', ':', 'proteccion', 'autoridades', ',', 'corporaciones', 'locales', 'custodia', 'edificios', 'instalaciones', 'ordenar', ',', 'senalizar', 'dirigir', 'trafico', 'casco', 'urbano', ',', 'acuerdo', 'establecido', 'normas', 'circulacion', 'instruir', 'atestados', 'accidentes', 'circulacion', 'policia', 'administrativa', 'municipal', 'participar', 'funciones', 'policia', 'judicial', ',', 'colaborador', 'fuerzas', 'cuerpos', 'seguridad', 'colaborar', 'servicios', 'proteccion', 'civil', 'pagina', 'efectuar', 'diligencias', 'prevencion', 'cuantas', 'actuaciones', 'tiendan', 'evitar', 'actos', 'delictivos', ',', 'marco', 'colaboracion', 'establecido', 'juntas', 'locales', 'seguridad', 'vigilar', 'espacios', 'publicos', 'colaborar', 'fuerzas', 'cuerpos', 'seguridad', 'proteccion', 'manifestaciones', 'mantenimiento', 'orden', 'grandes', 'concentraciones', 'humanas', 'cooperar', 'resolucion', 'conflictos', 'privados', 'actuaciones', 'practiquen', 'policias', 'locales', 'relacion', 'instruccion', 'atestados', 'accidentes', 'trafico', 'diligencias', 'prevencion', 'deberan', 'ser', 'comunicados', 'fuerzas', 'cuerpos', 'seguridad', 'competentes', 'cadacaso', 'funciones', 'citadas', ',', 'legislacion', 'comunidades', 'autonomas', 'puede', 'anadir', 'otras', ',', 'comunidad', 'madrid', 'es', ':', 'velar', 'cumplimiento', 'disposiciones', 'dictadas', 'materia', 'proteccion', 'medio', 'ambiente', 'participar', 'enla', 'educacion', 'vial', 'caracteristica', 'importante', 'ley', 'organica', 'fuerzas', 'cuerpos', 'seguridad', 'supresion', 'principio', 'superioridad', 'cuerpos', 'estatales', 'policia', 'administraciones', 'publicas', 'territoriales', ',', 'supliendo', 'lo', 'elde', 'colaboracion', 'reciproca', 'cuerpos', 'fuerzas', 'seguridad', 'segun', 'art', ',', 'miembros', 'fuerzas', 'cuerpos', 'seguridad', 'actuaran', 'conforme', 'principio', 'cooperacion', 'reciproca', 'coordinacion', 'efectuara', 'mediante', 'organos', 'establece', 'ley', 'tales', 'organos', 'son', ':', 'las', 'juntas', 'locales', 'seguridad', 'juntas', 'seguridad', 'comunidades', 'autonomas', ',', 'existentes', 'comunidades', 'cuerpo', 'policia', 'propio', ',', 'estan', 'integradas', 'representacion', 'respectivos', 'ejecutivos', 'regionales', 'funcion', 'coordinar', 'laactuacion', 'policias', 'autonomicas', 'fuerzas', 'cuerpos', 'seguridad', 'consejo', 'politica', 'seguridad', ',', 'presidido', 'ministerio', 'interior', 'integrado', 'numero', 'igual', 'representantes', 'todas', 'comunidades', 'autonomas', 'funciones', 'fijar', 'numero', 'maximo', 'efectivos', 'delas', 'policias', 'autonomicas', 'ultimo', ',', 'importante', 'destacar', 'principio', 'cooperacion', 'interpolicial', 'representa', 'consecuencia', ',', 'ambito', 'seguridad', 'publica', ',', 'establecido', 'articulo', ',', 'constitucion', 'define', 'principiosfundamentales', 'debe', 'ajustar', 'se', 'administracion', ':', 'administracion', 'publica', '[', ']', 'actua', 'acuerdo', 'principios', 'eficacia', ',', 'jerarquia', 'descentralizacion', ',', 'desconcentracion', 'coordinacion', 'https', ':', 'www', 'seguridadpublica', 'vel', 'principio', 'discriminacion', 'principio', 'basico', 'esencial', 'relaciones', 'juridicas', 'administracion', 'expresamente', 'recogido', 'directiva', 'ce', 'consejo', ',', 'de', 'junio', ',', 'relativa', 'acuerdo', 'marcode', 'ces', ',', 'unice', 'ceep', 'trabajo', 'duracion', 'determinada', 'especial', 'relevancia', 'sentencia', 'dictada', 'sala', 'tercera', 'tribunal', 'justicia', 'union', 'europea', 'julio', 'asunto', 'c', 'l', 'incluir', 'ambito', 'proteccion', 'directiva', 'acuerdo', 'marco', 'funcionarios', 'publicos', ':', \"'\", '[', ']', 'definicion', 'efectos', 'acuerdo', 'marco', 'concepto', \"'\", 'trabajador', 'contrato', 'duracion', 'determinada', \"'\", ',', 'formulada', 'clausula', ',', 'apartado', ',', 'dicho', 'acuerdo', ',', 'engloba', 'trabajadores', ',', 'establecer', 'diferenciasen', 'funcion', 'caracter', 'publico', 'privado', 'empleador', 'trabajan', ',', 'ello', 'independientemente', 'calificacion', 'contrato', 'derecho', 'interno', 'sentencia', 'fiamingo', 'otros', ',', 'c', ',', 'c', 'c', ',', 'eu:c', ':', ':', ',', 'apartado', 'yjurisprudencia', 'citada', 'cuenta', 'importancia', 'principios', 'igualdad', 'trato', 'discriminacion', ',', 'forman', 'parte', 'principios', 'generales', 'derecho', 'union', ',', 'disposiciones', 'previstas', 'directiva', 'acuerdomarco', 'efectos', 'garantizar', 'trabajadores', 'contrato', 'duracion', 'determinada', 'disfruten', 'mismas', 'ventajas', 'trabajadores', 'tiempo', 'indefinido', 'comparables', ',', 'salvo', 'justificado', 'trato', 'diferenciado', 'razonesobjetivas', ',', 'debe', 'reconocerselespagina', 'alcance', 'general', ',', 'dado', 'constituyen', 'normas', 'derecho', 'social', 'union', 'especial', 'importancia', 'debe', 'disfrutar', 'trabajador', ',', 'ser', 'disposiciones', 'protectoras', 'minimas', 'sentencia', 'cerro', 'alonso', ',', 'c', ',', 'eu:c', ':', ':', ',', 'apartado', 'consecuencia', ',', 'directiva', 'acuerdo', 'marco', 'aplican', 'trabajadores', 'cuyas', 'prestaciones', 'retribuidas', 'marco', 'relacion', 'laboral', 'duracion', 'determinada', 'vincule', 'empleador', 'sentencias', 'delcerro', 'alonso', ',', 'c', ',', 'eu:c', ':', ':', ',', 'apartado', ',', 'fiamingo', 'otros', ',', 'c', ',', 'c', 'c', ',', 'eu:c', ':', ':', ',', 'apartado', 'jurisprudencia', 'citada', \"'\", 'vila', 'finalidad', 'iniciativa', 'legislativa', 'popular', 'equiparacion', 'salarial', 'policias', 'espanol', 'constatar', 'se', 'competencias', 'funciones', 'policia', 'nacional', 'guardia', 'civil', 'desempenan', 'materia', 'seguridadpublica', 'superiores', 'atribuidas', 'mossos', \"d'esquadra\", ',', 'policia', 'foral', 'ertzaintza', 'policia', 'local', 'perciben', 'retribuciones', 'inferiores', 'diferencias', 'retributivas', 'producen', 'asignacion', 'complemento', 'especifico', ',', 'horas', 'extras', ',', 'complementos', 'nocturnidad', 'reflejo', 'cotizaciones', 'ss', 'futuras', 'pensiones', ',', 'etc', 'presente', 'iniciativa', 'fundamento', 'constitucion', 'espanola', 'ampara', 'protege', 'igualdad', 'ley', 'articulo', 'y', ',', 'dentro', 'ambito', 'proyeccion', 'especifico', 'derecho', 'igualdad', 'acceso', 'lasfunciones', 'publicas', ',', 'articulo', 'ce', ',', 'equiparacion', 'salarial', 'encuentra', 'especifica', 'proteccion', 'medida', 'si', 'alguien', 'cobra', 'menos', 'debe', 'agravio', 'comparativo', 'puede', 'desincentivando', 'permanencia', 'puesto', ',', 'tal', 'senalado', 'sentencia', 'sala', 'contencioso', 'administrativo', 'tribunal', 'supremo', 'octubre', 'recurso', 'fundamento', 'derecho', 'dice', 'expresamente', ':', \"'\", 'no', 'objetivo', 'razonable', 'diferenciar', 'travesdel', 'nivel', 'profesional', 'complemento', 'especifico', 'puestos', 'trabajo', 'exactamente', 'mismo', 'contenido', ',', 'situacion', 'pueda', 'reducir', 'se', 'mera', 'irregularidad', 'administrativa', 'compatible', 'exigencias', 'articulo', 'constitucion', 'derecho', 'fundamental', 'reconoce', 'acceder', 'permanecer', 'funcion', 'publica', 'condiciones', 'igualdad', 'requisitos', 'senalen', 'leyes', \"'\", 'parte', ',', 'articulo', 'a', ',', 'a', ',', 'ce', 'atribuye', 'administracion', 'general', 'competencia', 'exclusiva', 'sobre', ':', \"'\", 'regulacion', 'condiciones', 'basicas', 'garanticen', 'igualdad', 'espanoles', 'ejercicio', 'derechos', 'cumplimiento', 'deberes', 'constitucionales', \"'\", \"'\", 'legislacion', 'basica', 'regimen', 'economico', 'seguridad', 'social', ',', 'perjuicio', 'ejecucion', 'servicios', 'comunidades', 'autonomas', \"'\", \"'\", 'bases', 'regimen', 'juridico', 'administraciones', 'publicas', 'regimen', 'estatutario', 'funcionarios', 'que', ',', 'caso', ',', 'garantizaran', 'administrados', 'tratamiento', 'comun', \"'\", \"'\", 'seguridad', 'publica', ',', 'perjuicio', 'posibilidad', 'creacion', 'policias', 'comunidades', 'autonomas', 'forma', 'establezca', 'respectivos', 'estatutos', 'marco', 'disponga', 'ley', 'organica', \"'\", 'lo', 'consonancia', 'atribuciones', 'otorgadas', 'poderes', 'publicos', 'constitucion', ',', 'respeto', 'dignidad', 'persona', 'fundamento', 'orden', 'politico', 'paz', 'social', 'articulo', 'ce', ';', 'promocionde', 'condiciones', 'conseguir', 'libertad', 'igualdad', 'individuos', 'grupos', 'reales', 'efectivas', 'articulo', 'ce', ';', 'obligacion', 'promover', 'condiciones', 'favorables', 'progreso', 'social', 'economico', 'distribucionde', 'renta', 'regional', 'personal', 'mas', 'equilibrada', 'articulo', ';', 'proteccion', 'social', ',', 'economica', 'juridica', 'familia', 'articulo', 'hacen', 'necesaria', 'tramitacion', 'aprobacion', 'presente', 'proposicion', 'ley', 'efectiva', 'igualdad', 'yequiparacion', 'salarial', 'policias', 'espanol', 'articulado', 'iniciativa', 'formula', 'siguiente', 'manera', ':', 'pagina', 'articulo', 'primero', 'objeto', 'ley', 'presente', 'ley', 'objeto', 'establecer', 'bases', 'igualdad', 'retribuciones', 'salariales', 'policias', 'articulo', 'segundo', 'ambito', 'aplicacion', 'norma', 'aplicara', 'funcionarios', 'carrera', 'policia', 'nacional', 'definidos', 'ley', 'organica', ',', 'julio', ',', 'regimen', 'personal', 'policia', 'nacional', ',', 'guardia', 'civil', ',', 'definidos', 'ley', ',', 'denoviembre', ',', 'regimen', 'personal', 'guardia', 'civil', 'ley', 'aplicacion', 'siguiente', 'personal', 'regula', 'propio', 'sistema', ':', 'a', 'personal', 'funcionario', 'cortes', 'generales', 'asambleas', 'legislativas', 'comunidades', 'autonomas', 'b', 'personal', 'funcionario', 'demas', 'organos', 'constitucionales', 'organos', 'estatutarios', 'comunidades', 'autonomas', 'c', 'jueces', ',', 'magistrados', ',', 'fiscales', 'demas', 'personal', 'funcionario', 'servicio', 'administracion', 'justicia', 'd', 'personal', 'militar', 'fuerzas', 'armadas', 'personal', 'administracion', 'general', 'f', 'personal', 'retribuido', 'arancel', 'g', 'personal', 'centro', 'nacional', 'inteligencia', 'h', 'personal', 'banco', 'espana', 'fondos', 'garantia', 'depositos', 'entidades', 'credito', 'articulo', 'tercero', 'componente', 'general', 'complemento', 'especifico', 'percibe', 'funcion', 'correspondiente', 'empleo', 'categoria', 'tenga', ',', 'definido', 'articulo', 'b', ',', 'n', ',', 'real', 'decreto', ',', 'julio', ',', 'retribuciones', 'fuerzas', 'ycuerpos', 'seguridad', 'estado', ',', 'aplicable', 'cuerpo', 'guardia', 'civil', 'cuerpo', 'nacional', 'policia', 'podra', 'ser', 'inferior', 'complemento', 'especifico', 'policias', 'autonomicas', 'locales', 'espanol', 'disposicion', 'adicional', 'primera', 'gobierno', 'plazo', 'tres', 'meses', 'procedera', 'modificar', 'real', 'decreto', ',', 'julio', ',', 'retribuciones', 'fuerzas', 'cuerpos', 'seguridad', 'estado', ',', 'adaptar', 'niveles', 'complementos', 'destinos', 'distintascategorias', 'profesionales', ',', 'adecuacion', 'adaptacion', 'titulaciones', ',', 'exigidas', 'cada', 'escalas', 'disposicion', 'adicional', 'segunda', 'gobierno', 'plazo', 'tres', 'meses', 'procedera', 'modificar', 'complementos', 'territorialidad', ',', 'turnicidad', ',', 'asi', 'conceptos', 'dietas', 'asistencias', 'juicios', 'realidad', 'social', 'geografica', 'impacto', 'disposicion', 'derogatoria', 'quedan', 'derogadas', 'cuantas', 'disposiciones', 'igual', 'inferior', 'rango', 'contradigan', 'opongan', 'dispuesto', 'ley', 'disposicion', 'final', 'primera', 'fundamento', 'constitucional', 'ley', 'dicta', 'amparo', 'establecido', 'articulo', 'a', ',', 'a', ',', 'ce', 'pagina', 'disposicion', 'final', 'segunda', 'facultades', 'desarrollo', 'gobierno', 'ministerio', 'interior', ',', 'ambito', 'competencias', ',', 'dictaran', 'disposiciones', 'necesarias', 'ejecucion', 'establecido', 'ley', ',', 'previa', 'consulta', 'organizaciones', 'empresariales', 'sindicales', 'masrepresentativas', 'disposicion', 'final', 'tercera', 'entrada', 'vigor', 'presente', 'ley', 'entrara', 'vigor', 'dia', 'siguiente', 'publicacion', \"'\", 'boletin', 'oficial', 'estado', \"'\", 'bocg', 'congreso', 'diputados', ',', 'serie', 'b', ',', 'num', ',', 'cve', ':', 'bocg', 'b', 'pdfboletin', 'oficial', 'cortes', 'generalescongreso', 'diputadosxiv', 'legislaturaserie', 'b', ':', 'proposiciones', 'ley', 'marzo', 'num', 'proposicion', 'ley', 'proposicion', 'ley', 'efectiva', 'igualdad', 'equiparacion', 'salarial', 'policias', 'espanol', 'presentada', 'don', 'natan', 'espinosa', 'perez', 'disconformidad', 'gobierno', 'tramitacion', 'mesa', 'camara', ',', 'reunion', 'dia', 'hoy', ',', 'adoptado', 'acuerdo', 'indica', 'respecto', 'asunto', 'referencia', 'iniciativa', 'legislativa', 'popular', 'autor', ':', 'gobierno', 'comunicacion', 'disconformidad', 'gobierno', 'respecto', 'toma', 'consideracion', 'proposicion', 'ley', 'efectiva', 'igualdad', 'equiparacion', 'salarial', 'policias', 'espanol', ',', 'presentada', 'don', 'natan', 'espinosa', 'perez', 'acuerdo', ':', 'expresada', 'gobierno', 'disconformidad', ',', 'virtud', 'dispuesto', 'articulos', 'constitucion', 'reglamento', 'camara', ',', 'acordar', 'procede', 'toma', 'consideracion', 'pleno', 'citada', 'proposicion', 'deley', 'asimismo', ',', 'comunicar', 'acuerdo', 'comision', 'promotora', ',', 'comision', 'interior', 'gobierno', 'publicar', 'boletin', 'oficial', 'cortes', 'generales', 'ejecucion', 'dicho', 'acuerdo', 'ordena', 'publicacion', 'conformidad', 'articulo', 'reglamento', 'camara', 'palacio', 'congreso', 'diputados', ',', 'marzo', 'p', 'd', 'secretario', 'general', 'congreso', 'diputados', ',', 'carlos', 'gutierrez', 'vicen']\n",
      "Entities: [('carlos gutierrez', 'PER', 23822, 23838)]\n",
      "  mapped = lib.map_infer(values, f, convert=convert_dtype)\n"
     ]
    },
    {
     "ename": "RuntimeError",
     "evalue": "[enforce fail at ..\\c10\\core\\CPUAllocator.cpp:73] data. DefaultCPUAllocator: not enough memory: you tried to allocate 10052091524 bytes. Buy new RAM!",
     "output_type": "error",
     "traceback": [
      "\u001b[1;31m---------------------------------------------------------------------------\u001b[0m",
      "\u001b[1;31mRuntimeError\u001b[0m                              Traceback (most recent call last)",
      "\u001b[1;32m<ipython-input-24-731ac5184d72>\u001b[0m in \u001b[0;36m<module>\u001b[1;34m\u001b[0m\n\u001b[0;32m      2\u001b[0m     \u001b[1;32mreturn\u001b[0m \u001b[1;34m\" \"\u001b[0m\u001b[1;33m.\u001b[0m\u001b[0mjoin\u001b[0m\u001b[1;33m(\u001b[0m\u001b[1;33m[\u001b[0m\u001b[0mtok\u001b[0m\u001b[1;33m.\u001b[0m\u001b[0mlemma_\u001b[0m \u001b[1;32mfor\u001b[0m \u001b[0mtok\u001b[0m \u001b[1;32min\u001b[0m \u001b[0mnlp\u001b[0m\u001b[1;33m.\u001b[0m\u001b[0mtokenizer\u001b[0m\u001b[1;33m(\u001b[0m\u001b[0mtext\u001b[0m\u001b[1;33m)\u001b[0m \u001b[1;32mif\u001b[0m \u001b[1;32mnot\u001b[0m \u001b[0mtok\u001b[0m\u001b[1;33m.\u001b[0m\u001b[0mis_stop\u001b[0m\u001b[1;33m]\u001b[0m\u001b[1;33m)\u001b[0m\u001b[1;33m\u001b[0m\u001b[1;33m\u001b[0m\u001b[0m\n\u001b[0;32m      3\u001b[0m \u001b[1;33m\u001b[0m\u001b[0m\n\u001b[1;32m----> 4\u001b[1;33m \u001b[0mdf\u001b[0m\u001b[1;33m[\u001b[0m\u001b[1;34m't6_lemmitization'\u001b[0m\u001b[1;33m]\u001b[0m \u001b[1;33m=\u001b[0m \u001b[0mdf\u001b[0m\u001b[1;33m[\u001b[0m\u001b[1;34m't5_stopwords_removed'\u001b[0m\u001b[1;33m]\u001b[0m\u001b[1;33m.\u001b[0m\u001b[0mapply\u001b[0m\u001b[1;33m(\u001b[0m\u001b[1;32mlambda\u001b[0m \u001b[0mx\u001b[0m\u001b[1;33m:\u001b[0m\u001b[0mlemmatize\u001b[0m\u001b[1;33m(\u001b[0m\u001b[0mx\u001b[0m\u001b[1;33m)\u001b[0m\u001b[1;33m)\u001b[0m\u001b[1;33m\u001b[0m\u001b[1;33m\u001b[0m\u001b[0m\n\u001b[0m\u001b[0;32m      5\u001b[0m \u001b[0mdf\u001b[0m\u001b[1;33m[\u001b[0m\u001b[1;34m't6_lemmitization'\u001b[0m\u001b[1;33m]\u001b[0m\u001b[1;33m.\u001b[0m\u001b[0mhead\u001b[0m\u001b[1;33m(\u001b[0m\u001b[1;33m)\u001b[0m\u001b[1;33m\u001b[0m\u001b[1;33m\u001b[0m\u001b[0m\n",
      "\u001b[1;32m~\\AppData\\Roaming\\Python\\Python37\\site-packages\\pandas\\core\\series.py\u001b[0m in \u001b[0;36mapply\u001b[1;34m(self, func, convert_dtype, args, **kwds)\u001b[0m\n\u001b[0;32m   4198\u001b[0m             \u001b[1;32melse\u001b[0m\u001b[1;33m:\u001b[0m\u001b[1;33m\u001b[0m\u001b[1;33m\u001b[0m\u001b[0m\n\u001b[0;32m   4199\u001b[0m                 \u001b[0mvalues\u001b[0m \u001b[1;33m=\u001b[0m \u001b[0mself\u001b[0m\u001b[1;33m.\u001b[0m\u001b[0mastype\u001b[0m\u001b[1;33m(\u001b[0m\u001b[0mobject\u001b[0m\u001b[1;33m)\u001b[0m\u001b[1;33m.\u001b[0m\u001b[0m_values\u001b[0m\u001b[1;33m\u001b[0m\u001b[1;33m\u001b[0m\u001b[0m\n\u001b[1;32m-> 4200\u001b[1;33m                 \u001b[0mmapped\u001b[0m \u001b[1;33m=\u001b[0m \u001b[0mlib\u001b[0m\u001b[1;33m.\u001b[0m\u001b[0mmap_infer\u001b[0m\u001b[1;33m(\u001b[0m\u001b[0mvalues\u001b[0m\u001b[1;33m,\u001b[0m \u001b[0mf\u001b[0m\u001b[1;33m,\u001b[0m \u001b[0mconvert\u001b[0m\u001b[1;33m=\u001b[0m\u001b[0mconvert_dtype\u001b[0m\u001b[1;33m)\u001b[0m\u001b[1;33m\u001b[0m\u001b[1;33m\u001b[0m\u001b[0m\n\u001b[0m\u001b[0;32m   4201\u001b[0m \u001b[1;33m\u001b[0m\u001b[0m\n\u001b[0;32m   4202\u001b[0m         \u001b[1;32mif\u001b[0m \u001b[0mlen\u001b[0m\u001b[1;33m(\u001b[0m\u001b[0mmapped\u001b[0m\u001b[1;33m)\u001b[0m \u001b[1;32mand\u001b[0m \u001b[0misinstance\u001b[0m\u001b[1;33m(\u001b[0m\u001b[0mmapped\u001b[0m\u001b[1;33m[\u001b[0m\u001b[1;36m0\u001b[0m\u001b[1;33m]\u001b[0m\u001b[1;33m,\u001b[0m \u001b[0mSeries\u001b[0m\u001b[1;33m)\u001b[0m\u001b[1;33m:\u001b[0m\u001b[1;33m\u001b[0m\u001b[1;33m\u001b[0m\u001b[0m\n",
      "\u001b[1;32mpandas\\_libs\\lib.pyx\u001b[0m in \u001b[0;36mpandas._libs.lib.map_infer\u001b[1;34m()\u001b[0m\n",
      "\u001b[1;32m<ipython-input-24-731ac5184d72>\u001b[0m in \u001b[0;36m<lambda>\u001b[1;34m(x)\u001b[0m\n\u001b[0;32m      2\u001b[0m     \u001b[1;32mreturn\u001b[0m \u001b[1;34m\" \"\u001b[0m\u001b[1;33m.\u001b[0m\u001b[0mjoin\u001b[0m\u001b[1;33m(\u001b[0m\u001b[1;33m[\u001b[0m\u001b[0mtok\u001b[0m\u001b[1;33m.\u001b[0m\u001b[0mlemma_\u001b[0m \u001b[1;32mfor\u001b[0m \u001b[0mtok\u001b[0m \u001b[1;32min\u001b[0m \u001b[0mnlp\u001b[0m\u001b[1;33m.\u001b[0m\u001b[0mtokenizer\u001b[0m\u001b[1;33m(\u001b[0m\u001b[0mtext\u001b[0m\u001b[1;33m)\u001b[0m \u001b[1;32mif\u001b[0m \u001b[1;32mnot\u001b[0m \u001b[0mtok\u001b[0m\u001b[1;33m.\u001b[0m\u001b[0mis_stop\u001b[0m\u001b[1;33m]\u001b[0m\u001b[1;33m)\u001b[0m\u001b[1;33m\u001b[0m\u001b[1;33m\u001b[0m\u001b[0m\n\u001b[0;32m      3\u001b[0m \u001b[1;33m\u001b[0m\u001b[0m\n\u001b[1;32m----> 4\u001b[1;33m \u001b[0mdf\u001b[0m\u001b[1;33m[\u001b[0m\u001b[1;34m't6_lemmitization'\u001b[0m\u001b[1;33m]\u001b[0m \u001b[1;33m=\u001b[0m \u001b[0mdf\u001b[0m\u001b[1;33m[\u001b[0m\u001b[1;34m't5_stopwords_removed'\u001b[0m\u001b[1;33m]\u001b[0m\u001b[1;33m.\u001b[0m\u001b[0mapply\u001b[0m\u001b[1;33m(\u001b[0m\u001b[1;32mlambda\u001b[0m \u001b[0mx\u001b[0m\u001b[1;33m:\u001b[0m\u001b[0mlemmatize\u001b[0m\u001b[1;33m(\u001b[0m\u001b[0mx\u001b[0m\u001b[1;33m)\u001b[0m\u001b[1;33m)\u001b[0m\u001b[1;33m\u001b[0m\u001b[1;33m\u001b[0m\u001b[0m\n\u001b[0m\u001b[0;32m      5\u001b[0m \u001b[0mdf\u001b[0m\u001b[1;33m[\u001b[0m\u001b[1;34m't6_lemmitization'\u001b[0m\u001b[1;33m]\u001b[0m\u001b[1;33m.\u001b[0m\u001b[0mhead\u001b[0m\u001b[1;33m(\u001b[0m\u001b[1;33m)\u001b[0m\u001b[1;33m\u001b[0m\u001b[1;33m\u001b[0m\u001b[0m\n",
      "\u001b[1;32m<ipython-input-24-731ac5184d72>\u001b[0m in \u001b[0;36mlemmatize\u001b[1;34m(text)\u001b[0m\n\u001b[0;32m      1\u001b[0m \u001b[1;32mdef\u001b[0m \u001b[0mlemmatize\u001b[0m\u001b[1;33m(\u001b[0m\u001b[0mtext\u001b[0m\u001b[1;33m)\u001b[0m\u001b[1;33m:\u001b[0m\u001b[1;33m\u001b[0m\u001b[1;33m\u001b[0m\u001b[0m\n\u001b[1;32m----> 2\u001b[1;33m     \u001b[1;32mreturn\u001b[0m \u001b[1;34m\" \"\u001b[0m\u001b[1;33m.\u001b[0m\u001b[0mjoin\u001b[0m\u001b[1;33m(\u001b[0m\u001b[1;33m[\u001b[0m\u001b[0mtok\u001b[0m\u001b[1;33m.\u001b[0m\u001b[0mlemma_\u001b[0m \u001b[1;32mfor\u001b[0m \u001b[0mtok\u001b[0m \u001b[1;32min\u001b[0m \u001b[0mnlp\u001b[0m\u001b[1;33m.\u001b[0m\u001b[0mtokenizer\u001b[0m\u001b[1;33m(\u001b[0m\u001b[0mtext\u001b[0m\u001b[1;33m)\u001b[0m \u001b[1;32mif\u001b[0m \u001b[1;32mnot\u001b[0m \u001b[0mtok\u001b[0m\u001b[1;33m.\u001b[0m\u001b[0mis_stop\u001b[0m\u001b[1;33m]\u001b[0m\u001b[1;33m)\u001b[0m\u001b[1;33m\u001b[0m\u001b[1;33m\u001b[0m\u001b[0m\n\u001b[0m\u001b[0;32m      3\u001b[0m \u001b[1;33m\u001b[0m\u001b[0m\n\u001b[0;32m      4\u001b[0m \u001b[0mdf\u001b[0m\u001b[1;33m[\u001b[0m\u001b[1;34m't6_lemmitization'\u001b[0m\u001b[1;33m]\u001b[0m \u001b[1;33m=\u001b[0m \u001b[0mdf\u001b[0m\u001b[1;33m[\u001b[0m\u001b[1;34m't5_stopwords_removed'\u001b[0m\u001b[1;33m]\u001b[0m\u001b[1;33m.\u001b[0m\u001b[0mapply\u001b[0m\u001b[1;33m(\u001b[0m\u001b[1;32mlambda\u001b[0m \u001b[0mx\u001b[0m\u001b[1;33m:\u001b[0m\u001b[0mlemmatize\u001b[0m\u001b[1;33m(\u001b[0m\u001b[0mx\u001b[0m\u001b[1;33m)\u001b[0m\u001b[1;33m)\u001b[0m\u001b[1;33m\u001b[0m\u001b[1;33m\u001b[0m\u001b[0m\n\u001b[0;32m      5\u001b[0m \u001b[0mdf\u001b[0m\u001b[1;33m[\u001b[0m\u001b[1;34m't6_lemmitization'\u001b[0m\u001b[1;33m]\u001b[0m\u001b[1;33m.\u001b[0m\u001b[0mhead\u001b[0m\u001b[1;33m(\u001b[0m\u001b[1;33m)\u001b[0m\u001b[1;33m\u001b[0m\u001b[1;33m\u001b[0m\u001b[0m\n",
      "\u001b[1;32m~\\Anaconda3\\lib\\site-packages\\spacy_stanza\\tokenizer.py\u001b[0m in \u001b[0;36m__call__\u001b[1;34m(self, text)\u001b[0m\n\u001b[0;32m     81\u001b[0m             \u001b[1;32mreturn\u001b[0m \u001b[0mDoc\u001b[0m\u001b[1;33m(\u001b[0m\u001b[0mself\u001b[0m\u001b[1;33m.\u001b[0m\u001b[0mvocab\u001b[0m\u001b[1;33m,\u001b[0m \u001b[0mwords\u001b[0m\u001b[1;33m=\u001b[0m\u001b[1;33m[\u001b[0m\u001b[0mtext\u001b[0m\u001b[1;33m]\u001b[0m\u001b[1;33m,\u001b[0m \u001b[0mspaces\u001b[0m\u001b[1;33m=\u001b[0m\u001b[1;33m[\u001b[0m\u001b[1;32mFalse\u001b[0m\u001b[1;33m]\u001b[0m\u001b[1;33m)\u001b[0m\u001b[1;33m\u001b[0m\u001b[1;33m\u001b[0m\u001b[0m\n\u001b[0;32m     82\u001b[0m \u001b[1;33m\u001b[0m\u001b[0m\n\u001b[1;32m---> 83\u001b[1;33m         \u001b[0msnlp_doc\u001b[0m \u001b[1;33m=\u001b[0m \u001b[0mself\u001b[0m\u001b[1;33m.\u001b[0m\u001b[0msnlp\u001b[0m\u001b[1;33m(\u001b[0m\u001b[0mtext\u001b[0m\u001b[1;33m)\u001b[0m\u001b[1;33m\u001b[0m\u001b[1;33m\u001b[0m\u001b[0m\n\u001b[0m\u001b[0;32m     84\u001b[0m         \u001b[0mtext\u001b[0m \u001b[1;33m=\u001b[0m \u001b[0msnlp_doc\u001b[0m\u001b[1;33m.\u001b[0m\u001b[0mtext\u001b[0m\u001b[1;33m\u001b[0m\u001b[1;33m\u001b[0m\u001b[0m\n\u001b[0;32m     85\u001b[0m         \u001b[0msnlp_tokens\u001b[0m\u001b[1;33m,\u001b[0m \u001b[0msnlp_heads\u001b[0m \u001b[1;33m=\u001b[0m \u001b[0mself\u001b[0m\u001b[1;33m.\u001b[0m\u001b[0mget_tokens_with_heads\u001b[0m\u001b[1;33m(\u001b[0m\u001b[0msnlp_doc\u001b[0m\u001b[1;33m)\u001b[0m\u001b[1;33m\u001b[0m\u001b[1;33m\u001b[0m\u001b[0m\n",
      "\u001b[1;32m~\\Anaconda3\\lib\\site-packages\\stanza\\pipeline\\core.py\u001b[0m in \u001b[0;36m__call__\u001b[1;34m(self, doc)\u001b[0m\n\u001b[0;32m    227\u001b[0m         assert any([isinstance(doc, str), isinstance(doc, list),\n\u001b[0;32m    228\u001b[0m                     isinstance(doc, Document)]), 'input should be either str, list or Document'\n\u001b[1;32m--> 229\u001b[1;33m         \u001b[0mdoc\u001b[0m \u001b[1;33m=\u001b[0m \u001b[0mself\u001b[0m\u001b[1;33m.\u001b[0m\u001b[0mprocess\u001b[0m\u001b[1;33m(\u001b[0m\u001b[0mdoc\u001b[0m\u001b[1;33m)\u001b[0m\u001b[1;33m\u001b[0m\u001b[1;33m\u001b[0m\u001b[0m\n\u001b[0m\u001b[0;32m    230\u001b[0m         \u001b[1;32mreturn\u001b[0m \u001b[0mdoc\u001b[0m\u001b[1;33m\u001b[0m\u001b[1;33m\u001b[0m\u001b[0m\n\u001b[0;32m    231\u001b[0m \u001b[1;33m\u001b[0m\u001b[0m\n",
      "\u001b[1;32m~\\Anaconda3\\lib\\site-packages\\stanza\\pipeline\\core.py\u001b[0m in \u001b[0;36mprocess\u001b[1;34m(self, doc)\u001b[0m\n\u001b[0;32m    221\u001b[0m             \u001b[1;32mif\u001b[0m \u001b[0mself\u001b[0m\u001b[1;33m.\u001b[0m\u001b[0mprocessors\u001b[0m\u001b[1;33m.\u001b[0m\u001b[0mget\u001b[0m\u001b[1;33m(\u001b[0m\u001b[0mprocessor_name\u001b[0m\u001b[1;33m)\u001b[0m\u001b[1;33m:\u001b[0m\u001b[1;33m\u001b[0m\u001b[1;33m\u001b[0m\u001b[0m\n\u001b[0;32m    222\u001b[0m                 \u001b[0mprocess\u001b[0m \u001b[1;33m=\u001b[0m \u001b[0mself\u001b[0m\u001b[1;33m.\u001b[0m\u001b[0mprocessors\u001b[0m\u001b[1;33m[\u001b[0m\u001b[0mprocessor_name\u001b[0m\u001b[1;33m]\u001b[0m\u001b[1;33m.\u001b[0m\u001b[0mbulk_process\u001b[0m \u001b[1;32mif\u001b[0m \u001b[0mbulk\u001b[0m \u001b[1;32melse\u001b[0m \u001b[0mself\u001b[0m\u001b[1;33m.\u001b[0m\u001b[0mprocessors\u001b[0m\u001b[1;33m[\u001b[0m\u001b[0mprocessor_name\u001b[0m\u001b[1;33m]\u001b[0m\u001b[1;33m.\u001b[0m\u001b[0mprocess\u001b[0m\u001b[1;33m\u001b[0m\u001b[1;33m\u001b[0m\u001b[0m\n\u001b[1;32m--> 223\u001b[1;33m                 \u001b[0mdoc\u001b[0m \u001b[1;33m=\u001b[0m \u001b[0mprocess\u001b[0m\u001b[1;33m(\u001b[0m\u001b[0mdoc\u001b[0m\u001b[1;33m)\u001b[0m\u001b[1;33m\u001b[0m\u001b[1;33m\u001b[0m\u001b[0m\n\u001b[0m\u001b[0;32m    224\u001b[0m         \u001b[1;32mreturn\u001b[0m \u001b[0mdoc\u001b[0m\u001b[1;33m\u001b[0m\u001b[1;33m\u001b[0m\u001b[0m\n\u001b[0;32m    225\u001b[0m \u001b[1;33m\u001b[0m\u001b[0m\n",
      "\u001b[1;32m~\\Anaconda3\\lib\\site-packages\\stanza\\pipeline\\depparse_processor.py\u001b[0m in \u001b[0;36mprocess\u001b[1;34m(self, document)\u001b[0m\n\u001b[0;32m     43\u001b[0m             \u001b[0mpreds\u001b[0m \u001b[1;33m=\u001b[0m \u001b[1;33m[\u001b[0m\u001b[1;33m]\u001b[0m\u001b[1;33m\u001b[0m\u001b[1;33m\u001b[0m\u001b[0m\n\u001b[0;32m     44\u001b[0m             \u001b[1;32mfor\u001b[0m \u001b[0mi\u001b[0m\u001b[1;33m,\u001b[0m \u001b[0mb\u001b[0m \u001b[1;32min\u001b[0m \u001b[0menumerate\u001b[0m\u001b[1;33m(\u001b[0m\u001b[0mbatch\u001b[0m\u001b[1;33m)\u001b[0m\u001b[1;33m:\u001b[0m\u001b[1;33m\u001b[0m\u001b[1;33m\u001b[0m\u001b[0m\n\u001b[1;32m---> 45\u001b[1;33m                 \u001b[0mpreds\u001b[0m \u001b[1;33m+=\u001b[0m \u001b[0mself\u001b[0m\u001b[1;33m.\u001b[0m\u001b[0mtrainer\u001b[0m\u001b[1;33m.\u001b[0m\u001b[0mpredict\u001b[0m\u001b[1;33m(\u001b[0m\u001b[0mb\u001b[0m\u001b[1;33m)\u001b[0m\u001b[1;33m\u001b[0m\u001b[1;33m\u001b[0m\u001b[0m\n\u001b[0m\u001b[0;32m     46\u001b[0m             \u001b[1;32mif\u001b[0m \u001b[0mbatch\u001b[0m\u001b[1;33m.\u001b[0m\u001b[0mdata_orig_idx\u001b[0m \u001b[1;32mis\u001b[0m \u001b[1;32mnot\u001b[0m \u001b[1;32mNone\u001b[0m\u001b[1;33m:\u001b[0m\u001b[1;33m\u001b[0m\u001b[1;33m\u001b[0m\u001b[0m\n\u001b[0;32m     47\u001b[0m                 \u001b[0mpreds\u001b[0m \u001b[1;33m=\u001b[0m \u001b[0munsort\u001b[0m\u001b[1;33m(\u001b[0m\u001b[0mpreds\u001b[0m\u001b[1;33m,\u001b[0m \u001b[0mbatch\u001b[0m\u001b[1;33m.\u001b[0m\u001b[0mdata_orig_idx\u001b[0m\u001b[1;33m)\u001b[0m\u001b[1;33m\u001b[0m\u001b[1;33m\u001b[0m\u001b[0m\n",
      "\u001b[1;32m~\\Anaconda3\\lib\\site-packages\\stanza\\models\\depparse\\trainer.py\u001b[0m in \u001b[0;36mpredict\u001b[1;34m(self, batch, unsort)\u001b[0m\n\u001b[0;32m     72\u001b[0m         \u001b[0mself\u001b[0m\u001b[1;33m.\u001b[0m\u001b[0mmodel\u001b[0m\u001b[1;33m.\u001b[0m\u001b[0meval\u001b[0m\u001b[1;33m(\u001b[0m\u001b[1;33m)\u001b[0m\u001b[1;33m\u001b[0m\u001b[1;33m\u001b[0m\u001b[0m\n\u001b[0;32m     73\u001b[0m         \u001b[0mbatch_size\u001b[0m \u001b[1;33m=\u001b[0m \u001b[0mword\u001b[0m\u001b[1;33m.\u001b[0m\u001b[0msize\u001b[0m\u001b[1;33m(\u001b[0m\u001b[1;36m0\u001b[0m\u001b[1;33m)\u001b[0m\u001b[1;33m\u001b[0m\u001b[1;33m\u001b[0m\u001b[0m\n\u001b[1;32m---> 74\u001b[1;33m         \u001b[0m_\u001b[0m\u001b[1;33m,\u001b[0m \u001b[0mpreds\u001b[0m \u001b[1;33m=\u001b[0m \u001b[0mself\u001b[0m\u001b[1;33m.\u001b[0m\u001b[0mmodel\u001b[0m\u001b[1;33m(\u001b[0m\u001b[0mword\u001b[0m\u001b[1;33m,\u001b[0m \u001b[0mword_mask\u001b[0m\u001b[1;33m,\u001b[0m \u001b[0mwordchars\u001b[0m\u001b[1;33m,\u001b[0m \u001b[0mwordchars_mask\u001b[0m\u001b[1;33m,\u001b[0m \u001b[0mupos\u001b[0m\u001b[1;33m,\u001b[0m \u001b[0mxpos\u001b[0m\u001b[1;33m,\u001b[0m \u001b[0mufeats\u001b[0m\u001b[1;33m,\u001b[0m \u001b[0mpretrained\u001b[0m\u001b[1;33m,\u001b[0m \u001b[0mlemma\u001b[0m\u001b[1;33m,\u001b[0m \u001b[0mhead\u001b[0m\u001b[1;33m,\u001b[0m \u001b[0mdeprel\u001b[0m\u001b[1;33m,\u001b[0m \u001b[0mword_orig_idx\u001b[0m\u001b[1;33m,\u001b[0m \u001b[0msentlens\u001b[0m\u001b[1;33m,\u001b[0m \u001b[0mwordlens\u001b[0m\u001b[1;33m)\u001b[0m\u001b[1;33m\u001b[0m\u001b[1;33m\u001b[0m\u001b[0m\n\u001b[0m\u001b[0;32m     75\u001b[0m         \u001b[0mhead_seqs\u001b[0m \u001b[1;33m=\u001b[0m \u001b[1;33m[\u001b[0m\u001b[0mchuliu_edmonds_one_root\u001b[0m\u001b[1;33m(\u001b[0m\u001b[0madj\u001b[0m\u001b[1;33m[\u001b[0m\u001b[1;33m:\u001b[0m\u001b[0ml\u001b[0m\u001b[1;33m,\u001b[0m \u001b[1;33m:\u001b[0m\u001b[0ml\u001b[0m\u001b[1;33m]\u001b[0m\u001b[1;33m)\u001b[0m\u001b[1;33m[\u001b[0m\u001b[1;36m1\u001b[0m\u001b[1;33m:\u001b[0m\u001b[1;33m]\u001b[0m \u001b[1;32mfor\u001b[0m \u001b[0madj\u001b[0m\u001b[1;33m,\u001b[0m \u001b[0ml\u001b[0m \u001b[1;32min\u001b[0m \u001b[0mzip\u001b[0m\u001b[1;33m(\u001b[0m\u001b[0mpreds\u001b[0m\u001b[1;33m[\u001b[0m\u001b[1;36m0\u001b[0m\u001b[1;33m]\u001b[0m\u001b[1;33m,\u001b[0m \u001b[0msentlens\u001b[0m\u001b[1;33m)\u001b[0m\u001b[1;33m]\u001b[0m \u001b[1;31m# remove attachment for the root\u001b[0m\u001b[1;33m\u001b[0m\u001b[1;33m\u001b[0m\u001b[0m\n\u001b[0;32m     76\u001b[0m         \u001b[0mdeprel_seqs\u001b[0m \u001b[1;33m=\u001b[0m \u001b[1;33m[\u001b[0m\u001b[0mself\u001b[0m\u001b[1;33m.\u001b[0m\u001b[0mvocab\u001b[0m\u001b[1;33m[\u001b[0m\u001b[1;34m'deprel'\u001b[0m\u001b[1;33m]\u001b[0m\u001b[1;33m.\u001b[0m\u001b[0munmap\u001b[0m\u001b[1;33m(\u001b[0m\u001b[1;33m[\u001b[0m\u001b[0mpreds\u001b[0m\u001b[1;33m[\u001b[0m\u001b[1;36m1\u001b[0m\u001b[1;33m]\u001b[0m\u001b[1;33m[\u001b[0m\u001b[0mi\u001b[0m\u001b[1;33m]\u001b[0m\u001b[1;33m[\u001b[0m\u001b[0mj\u001b[0m\u001b[1;33m+\u001b[0m\u001b[1;36m1\u001b[0m\u001b[1;33m]\u001b[0m\u001b[1;33m[\u001b[0m\u001b[0mh\u001b[0m\u001b[1;33m]\u001b[0m \u001b[1;32mfor\u001b[0m \u001b[0mj\u001b[0m\u001b[1;33m,\u001b[0m \u001b[0mh\u001b[0m \u001b[1;32min\u001b[0m \u001b[0menumerate\u001b[0m\u001b[1;33m(\u001b[0m\u001b[0mhs\u001b[0m\u001b[1;33m)\u001b[0m\u001b[1;33m]\u001b[0m\u001b[1;33m)\u001b[0m \u001b[1;32mfor\u001b[0m \u001b[0mi\u001b[0m\u001b[1;33m,\u001b[0m \u001b[0mhs\u001b[0m \u001b[1;32min\u001b[0m \u001b[0menumerate\u001b[0m\u001b[1;33m(\u001b[0m\u001b[0mhead_seqs\u001b[0m\u001b[1;33m)\u001b[0m\u001b[1;33m]\u001b[0m\u001b[1;33m\u001b[0m\u001b[1;33m\u001b[0m\u001b[0m\n",
      "\u001b[1;32m~\\Anaconda3\\lib\\site-packages\\torch\\nn\\modules\\module.py\u001b[0m in \u001b[0;36m_call_impl\u001b[1;34m(self, *input, **kwargs)\u001b[0m\n\u001b[0;32m    725\u001b[0m             \u001b[0mresult\u001b[0m \u001b[1;33m=\u001b[0m \u001b[0mself\u001b[0m\u001b[1;33m.\u001b[0m\u001b[0m_slow_forward\u001b[0m\u001b[1;33m(\u001b[0m\u001b[1;33m*\u001b[0m\u001b[0minput\u001b[0m\u001b[1;33m,\u001b[0m \u001b[1;33m**\u001b[0m\u001b[0mkwargs\u001b[0m\u001b[1;33m)\u001b[0m\u001b[1;33m\u001b[0m\u001b[1;33m\u001b[0m\u001b[0m\n\u001b[0;32m    726\u001b[0m         \u001b[1;32melse\u001b[0m\u001b[1;33m:\u001b[0m\u001b[1;33m\u001b[0m\u001b[1;33m\u001b[0m\u001b[0m\n\u001b[1;32m--> 727\u001b[1;33m             \u001b[0mresult\u001b[0m \u001b[1;33m=\u001b[0m \u001b[0mself\u001b[0m\u001b[1;33m.\u001b[0m\u001b[0mforward\u001b[0m\u001b[1;33m(\u001b[0m\u001b[1;33m*\u001b[0m\u001b[0minput\u001b[0m\u001b[1;33m,\u001b[0m \u001b[1;33m**\u001b[0m\u001b[0mkwargs\u001b[0m\u001b[1;33m)\u001b[0m\u001b[1;33m\u001b[0m\u001b[1;33m\u001b[0m\u001b[0m\n\u001b[0m\u001b[0;32m    728\u001b[0m         for hook in itertools.chain(\n\u001b[0;32m    729\u001b[0m                 \u001b[0m_global_forward_hooks\u001b[0m\u001b[1;33m.\u001b[0m\u001b[0mvalues\u001b[0m\u001b[1;33m(\u001b[0m\u001b[1;33m)\u001b[0m\u001b[1;33m,\u001b[0m\u001b[1;33m\u001b[0m\u001b[1;33m\u001b[0m\u001b[0m\n",
      "\u001b[1;32m~\\Anaconda3\\lib\\site-packages\\stanza\\models\\depparse\\model.py\u001b[0m in \u001b[0;36mforward\u001b[1;34m(self, word, word_mask, wordchars, wordchars_mask, upos, xpos, ufeats, pretrained, lemma, head, deprel, word_orig_idx, sentlens, wordlens)\u001b[0m\n\u001b[0;32m    135\u001b[0m \u001b[1;33m\u001b[0m\u001b[0m\n\u001b[0;32m    136\u001b[0m         \u001b[0munlabeled_scores\u001b[0m \u001b[1;33m=\u001b[0m \u001b[0mself\u001b[0m\u001b[1;33m.\u001b[0m\u001b[0munlabeled\u001b[0m\u001b[1;33m(\u001b[0m\u001b[0mself\u001b[0m\u001b[1;33m.\u001b[0m\u001b[0mdrop\u001b[0m\u001b[1;33m(\u001b[0m\u001b[0mlstm_outputs\u001b[0m\u001b[1;33m)\u001b[0m\u001b[1;33m,\u001b[0m \u001b[0mself\u001b[0m\u001b[1;33m.\u001b[0m\u001b[0mdrop\u001b[0m\u001b[1;33m(\u001b[0m\u001b[0mlstm_outputs\u001b[0m\u001b[1;33m)\u001b[0m\u001b[1;33m)\u001b[0m\u001b[1;33m.\u001b[0m\u001b[0msqueeze\u001b[0m\u001b[1;33m(\u001b[0m\u001b[1;36m3\u001b[0m\u001b[1;33m)\u001b[0m\u001b[1;33m\u001b[0m\u001b[1;33m\u001b[0m\u001b[0m\n\u001b[1;32m--> 137\u001b[1;33m         \u001b[0mdeprel_scores\u001b[0m \u001b[1;33m=\u001b[0m \u001b[0mself\u001b[0m\u001b[1;33m.\u001b[0m\u001b[0mdeprel\u001b[0m\u001b[1;33m(\u001b[0m\u001b[0mself\u001b[0m\u001b[1;33m.\u001b[0m\u001b[0mdrop\u001b[0m\u001b[1;33m(\u001b[0m\u001b[0mlstm_outputs\u001b[0m\u001b[1;33m)\u001b[0m\u001b[1;33m,\u001b[0m \u001b[0mself\u001b[0m\u001b[1;33m.\u001b[0m\u001b[0mdrop\u001b[0m\u001b[1;33m(\u001b[0m\u001b[0mlstm_outputs\u001b[0m\u001b[1;33m)\u001b[0m\u001b[1;33m)\u001b[0m\u001b[1;33m\u001b[0m\u001b[1;33m\u001b[0m\u001b[0m\n\u001b[0m\u001b[0;32m    138\u001b[0m \u001b[1;33m\u001b[0m\u001b[0m\n\u001b[0;32m    139\u001b[0m         \u001b[1;31m#goldmask = head.new_zeros(*head.size(), head.size(-1)+1, dtype=torch.uint8)\u001b[0m\u001b[1;33m\u001b[0m\u001b[1;33m\u001b[0m\u001b[1;33m\u001b[0m\u001b[0m\n",
      "\u001b[1;32m~\\Anaconda3\\lib\\site-packages\\torch\\nn\\modules\\module.py\u001b[0m in \u001b[0;36m_call_impl\u001b[1;34m(self, *input, **kwargs)\u001b[0m\n\u001b[0;32m    725\u001b[0m             \u001b[0mresult\u001b[0m \u001b[1;33m=\u001b[0m \u001b[0mself\u001b[0m\u001b[1;33m.\u001b[0m\u001b[0m_slow_forward\u001b[0m\u001b[1;33m(\u001b[0m\u001b[1;33m*\u001b[0m\u001b[0minput\u001b[0m\u001b[1;33m,\u001b[0m \u001b[1;33m**\u001b[0m\u001b[0mkwargs\u001b[0m\u001b[1;33m)\u001b[0m\u001b[1;33m\u001b[0m\u001b[1;33m\u001b[0m\u001b[0m\n\u001b[0;32m    726\u001b[0m         \u001b[1;32melse\u001b[0m\u001b[1;33m:\u001b[0m\u001b[1;33m\u001b[0m\u001b[1;33m\u001b[0m\u001b[0m\n\u001b[1;32m--> 727\u001b[1;33m             \u001b[0mresult\u001b[0m \u001b[1;33m=\u001b[0m \u001b[0mself\u001b[0m\u001b[1;33m.\u001b[0m\u001b[0mforward\u001b[0m\u001b[1;33m(\u001b[0m\u001b[1;33m*\u001b[0m\u001b[0minput\u001b[0m\u001b[1;33m,\u001b[0m \u001b[1;33m**\u001b[0m\u001b[0mkwargs\u001b[0m\u001b[1;33m)\u001b[0m\u001b[1;33m\u001b[0m\u001b[1;33m\u001b[0m\u001b[0m\n\u001b[0m\u001b[0;32m    728\u001b[0m         for hook in itertools.chain(\n\u001b[0;32m    729\u001b[0m                 \u001b[0m_global_forward_hooks\u001b[0m\u001b[1;33m.\u001b[0m\u001b[0mvalues\u001b[0m\u001b[1;33m(\u001b[0m\u001b[1;33m)\u001b[0m\u001b[1;33m,\u001b[0m\u001b[1;33m\u001b[0m\u001b[1;33m\u001b[0m\u001b[0m\n",
      "\u001b[1;32m~\\Anaconda3\\lib\\site-packages\\stanza\\models\\common\\biaffine.py\u001b[0m in \u001b[0;36mforward\u001b[1;34m(self, input1, input2)\u001b[0m\n\u001b[0;32m     72\u001b[0m \u001b[1;33m\u001b[0m\u001b[0m\n\u001b[0;32m     73\u001b[0m     \u001b[1;32mdef\u001b[0m \u001b[0mforward\u001b[0m\u001b[1;33m(\u001b[0m\u001b[0mself\u001b[0m\u001b[1;33m,\u001b[0m \u001b[0minput1\u001b[0m\u001b[1;33m,\u001b[0m \u001b[0minput2\u001b[0m\u001b[1;33m)\u001b[0m\u001b[1;33m:\u001b[0m\u001b[1;33m\u001b[0m\u001b[1;33m\u001b[0m\u001b[0m\n\u001b[1;32m---> 74\u001b[1;33m         \u001b[1;32mreturn\u001b[0m \u001b[0mself\u001b[0m\u001b[1;33m.\u001b[0m\u001b[0mscorer\u001b[0m\u001b[1;33m(\u001b[0m\u001b[0mself\u001b[0m\u001b[1;33m.\u001b[0m\u001b[0mdropout\u001b[0m\u001b[1;33m(\u001b[0m\u001b[0mself\u001b[0m\u001b[1;33m.\u001b[0m\u001b[0mhidden_func\u001b[0m\u001b[1;33m(\u001b[0m\u001b[0mself\u001b[0m\u001b[1;33m.\u001b[0m\u001b[0mW1\u001b[0m\u001b[1;33m(\u001b[0m\u001b[0minput1\u001b[0m\u001b[1;33m)\u001b[0m\u001b[1;33m)\u001b[0m\u001b[1;33m)\u001b[0m\u001b[1;33m,\u001b[0m \u001b[0mself\u001b[0m\u001b[1;33m.\u001b[0m\u001b[0mdropout\u001b[0m\u001b[1;33m(\u001b[0m\u001b[0mself\u001b[0m\u001b[1;33m.\u001b[0m\u001b[0mhidden_func\u001b[0m\u001b[1;33m(\u001b[0m\u001b[0mself\u001b[0m\u001b[1;33m.\u001b[0m\u001b[0mW2\u001b[0m\u001b[1;33m(\u001b[0m\u001b[0minput2\u001b[0m\u001b[1;33m)\u001b[0m\u001b[1;33m)\u001b[0m\u001b[1;33m)\u001b[0m\u001b[1;33m)\u001b[0m\u001b[1;33m\u001b[0m\u001b[1;33m\u001b[0m\u001b[0m\n\u001b[0m\u001b[0;32m     75\u001b[0m \u001b[1;33m\u001b[0m\u001b[0m\n\u001b[0;32m     76\u001b[0m \u001b[1;32mif\u001b[0m \u001b[0m__name__\u001b[0m \u001b[1;33m==\u001b[0m \u001b[1;34m\"__main__\"\u001b[0m\u001b[1;33m:\u001b[0m\u001b[1;33m\u001b[0m\u001b[1;33m\u001b[0m\u001b[0m\n",
      "\u001b[1;32m~\\Anaconda3\\lib\\site-packages\\torch\\nn\\modules\\module.py\u001b[0m in \u001b[0;36m_call_impl\u001b[1;34m(self, *input, **kwargs)\u001b[0m\n\u001b[0;32m    725\u001b[0m             \u001b[0mresult\u001b[0m \u001b[1;33m=\u001b[0m \u001b[0mself\u001b[0m\u001b[1;33m.\u001b[0m\u001b[0m_slow_forward\u001b[0m\u001b[1;33m(\u001b[0m\u001b[1;33m*\u001b[0m\u001b[0minput\u001b[0m\u001b[1;33m,\u001b[0m \u001b[1;33m**\u001b[0m\u001b[0mkwargs\u001b[0m\u001b[1;33m)\u001b[0m\u001b[1;33m\u001b[0m\u001b[1;33m\u001b[0m\u001b[0m\n\u001b[0;32m    726\u001b[0m         \u001b[1;32melse\u001b[0m\u001b[1;33m:\u001b[0m\u001b[1;33m\u001b[0m\u001b[1;33m\u001b[0m\u001b[0m\n\u001b[1;32m--> 727\u001b[1;33m             \u001b[0mresult\u001b[0m \u001b[1;33m=\u001b[0m \u001b[0mself\u001b[0m\u001b[1;33m.\u001b[0m\u001b[0mforward\u001b[0m\u001b[1;33m(\u001b[0m\u001b[1;33m*\u001b[0m\u001b[0minput\u001b[0m\u001b[1;33m,\u001b[0m \u001b[1;33m**\u001b[0m\u001b[0mkwargs\u001b[0m\u001b[1;33m)\u001b[0m\u001b[1;33m\u001b[0m\u001b[1;33m\u001b[0m\u001b[0m\n\u001b[0m\u001b[0;32m    728\u001b[0m         for hook in itertools.chain(\n\u001b[0;32m    729\u001b[0m                 \u001b[0m_global_forward_hooks\u001b[0m\u001b[1;33m.\u001b[0m\u001b[0mvalues\u001b[0m\u001b[1;33m(\u001b[0m\u001b[1;33m)\u001b[0m\u001b[1;33m,\u001b[0m\u001b[1;33m\u001b[0m\u001b[1;33m\u001b[0m\u001b[0m\n",
      "\u001b[1;32m~\\Anaconda3\\lib\\site-packages\\stanza\\models\\common\\biaffine.py\u001b[0m in \u001b[0;36mforward\u001b[1;34m(self, input1, input2)\u001b[0m\n\u001b[0;32m     57\u001b[0m         \u001b[0minput1\u001b[0m \u001b[1;33m=\u001b[0m \u001b[0mtorch\u001b[0m\u001b[1;33m.\u001b[0m\u001b[0mcat\u001b[0m\u001b[1;33m(\u001b[0m\u001b[1;33m[\u001b[0m\u001b[0minput1\u001b[0m\u001b[1;33m,\u001b[0m \u001b[0minput1\u001b[0m\u001b[1;33m.\u001b[0m\u001b[0mnew_ones\u001b[0m\u001b[1;33m(\u001b[0m\u001b[1;33m*\u001b[0m\u001b[0minput1\u001b[0m\u001b[1;33m.\u001b[0m\u001b[0msize\u001b[0m\u001b[1;33m(\u001b[0m\u001b[1;33m)\u001b[0m\u001b[1;33m[\u001b[0m\u001b[1;33m:\u001b[0m\u001b[1;33m-\u001b[0m\u001b[1;36m1\u001b[0m\u001b[1;33m]\u001b[0m\u001b[1;33m,\u001b[0m \u001b[1;36m1\u001b[0m\u001b[1;33m)\u001b[0m\u001b[1;33m]\u001b[0m\u001b[1;33m,\u001b[0m \u001b[0mlen\u001b[0m\u001b[1;33m(\u001b[0m\u001b[0minput1\u001b[0m\u001b[1;33m.\u001b[0m\u001b[0msize\u001b[0m\u001b[1;33m(\u001b[0m\u001b[1;33m)\u001b[0m\u001b[1;33m)\u001b[0m\u001b[1;33m-\u001b[0m\u001b[1;36m1\u001b[0m\u001b[1;33m)\u001b[0m\u001b[1;33m\u001b[0m\u001b[1;33m\u001b[0m\u001b[0m\n\u001b[0;32m     58\u001b[0m         \u001b[0minput2\u001b[0m \u001b[1;33m=\u001b[0m \u001b[0mtorch\u001b[0m\u001b[1;33m.\u001b[0m\u001b[0mcat\u001b[0m\u001b[1;33m(\u001b[0m\u001b[1;33m[\u001b[0m\u001b[0minput2\u001b[0m\u001b[1;33m,\u001b[0m \u001b[0minput2\u001b[0m\u001b[1;33m.\u001b[0m\u001b[0mnew_ones\u001b[0m\u001b[1;33m(\u001b[0m\u001b[1;33m*\u001b[0m\u001b[0minput2\u001b[0m\u001b[1;33m.\u001b[0m\u001b[0msize\u001b[0m\u001b[1;33m(\u001b[0m\u001b[1;33m)\u001b[0m\u001b[1;33m[\u001b[0m\u001b[1;33m:\u001b[0m\u001b[1;33m-\u001b[0m\u001b[1;36m1\u001b[0m\u001b[1;33m]\u001b[0m\u001b[1;33m,\u001b[0m \u001b[1;36m1\u001b[0m\u001b[1;33m)\u001b[0m\u001b[1;33m]\u001b[0m\u001b[1;33m,\u001b[0m \u001b[0mlen\u001b[0m\u001b[1;33m(\u001b[0m\u001b[0minput2\u001b[0m\u001b[1;33m.\u001b[0m\u001b[0msize\u001b[0m\u001b[1;33m(\u001b[0m\u001b[1;33m)\u001b[0m\u001b[1;33m)\u001b[0m\u001b[1;33m-\u001b[0m\u001b[1;36m1\u001b[0m\u001b[1;33m)\u001b[0m\u001b[1;33m\u001b[0m\u001b[1;33m\u001b[0m\u001b[0m\n\u001b[1;32m---> 59\u001b[1;33m         \u001b[1;32mreturn\u001b[0m \u001b[0mself\u001b[0m\u001b[1;33m.\u001b[0m\u001b[0mW_bilin\u001b[0m\u001b[1;33m(\u001b[0m\u001b[0minput1\u001b[0m\u001b[1;33m,\u001b[0m \u001b[0minput2\u001b[0m\u001b[1;33m)\u001b[0m\u001b[1;33m\u001b[0m\u001b[1;33m\u001b[0m\u001b[0m\n\u001b[0m\u001b[0;32m     60\u001b[0m \u001b[1;33m\u001b[0m\u001b[0m\n\u001b[0;32m     61\u001b[0m \u001b[1;32mclass\u001b[0m \u001b[0mDeepBiaffineScorer\u001b[0m\u001b[1;33m(\u001b[0m\u001b[0mnn\u001b[0m\u001b[1;33m.\u001b[0m\u001b[0mModule\u001b[0m\u001b[1;33m)\u001b[0m\u001b[1;33m:\u001b[0m\u001b[1;33m\u001b[0m\u001b[1;33m\u001b[0m\u001b[0m\n",
      "\u001b[1;32m~\\Anaconda3\\lib\\site-packages\\torch\\nn\\modules\\module.py\u001b[0m in \u001b[0;36m_call_impl\u001b[1;34m(self, *input, **kwargs)\u001b[0m\n\u001b[0;32m    725\u001b[0m             \u001b[0mresult\u001b[0m \u001b[1;33m=\u001b[0m \u001b[0mself\u001b[0m\u001b[1;33m.\u001b[0m\u001b[0m_slow_forward\u001b[0m\u001b[1;33m(\u001b[0m\u001b[1;33m*\u001b[0m\u001b[0minput\u001b[0m\u001b[1;33m,\u001b[0m \u001b[1;33m**\u001b[0m\u001b[0mkwargs\u001b[0m\u001b[1;33m)\u001b[0m\u001b[1;33m\u001b[0m\u001b[1;33m\u001b[0m\u001b[0m\n\u001b[0;32m    726\u001b[0m         \u001b[1;32melse\u001b[0m\u001b[1;33m:\u001b[0m\u001b[1;33m\u001b[0m\u001b[1;33m\u001b[0m\u001b[0m\n\u001b[1;32m--> 727\u001b[1;33m             \u001b[0mresult\u001b[0m \u001b[1;33m=\u001b[0m \u001b[0mself\u001b[0m\u001b[1;33m.\u001b[0m\u001b[0mforward\u001b[0m\u001b[1;33m(\u001b[0m\u001b[1;33m*\u001b[0m\u001b[0minput\u001b[0m\u001b[1;33m,\u001b[0m \u001b[1;33m**\u001b[0m\u001b[0mkwargs\u001b[0m\u001b[1;33m)\u001b[0m\u001b[1;33m\u001b[0m\u001b[1;33m\u001b[0m\u001b[0m\n\u001b[0m\u001b[0;32m    728\u001b[0m         for hook in itertools.chain(\n\u001b[0;32m    729\u001b[0m                 \u001b[0m_global_forward_hooks\u001b[0m\u001b[1;33m.\u001b[0m\u001b[0mvalues\u001b[0m\u001b[1;33m(\u001b[0m\u001b[1;33m)\u001b[0m\u001b[1;33m,\u001b[0m\u001b[1;33m\u001b[0m\u001b[1;33m\u001b[0m\u001b[0m\n",
      "\u001b[1;32m~\\Anaconda3\\lib\\site-packages\\stanza\\models\\common\\biaffine.py\u001b[0m in \u001b[0;36mforward\u001b[1;34m(self, input1, input2)\u001b[0m\n\u001b[0;32m     27\u001b[0m         \u001b[0minput2\u001b[0m \u001b[1;33m=\u001b[0m \u001b[0minput2\u001b[0m\u001b[1;33m.\u001b[0m\u001b[0mtranspose\u001b[0m\u001b[1;33m(\u001b[0m\u001b[1;36m1\u001b[0m\u001b[1;33m,\u001b[0m \u001b[1;36m2\u001b[0m\u001b[1;33m)\u001b[0m\u001b[1;33m\u001b[0m\u001b[1;33m\u001b[0m\u001b[0m\n\u001b[0;32m     28\u001b[0m         \u001b[1;31m# (N x (L1 x O) x D2) * (N x D2 x L2) -> (N x (L1 x O) x L2)\u001b[0m\u001b[1;33m\u001b[0m\u001b[1;33m\u001b[0m\u001b[1;33m\u001b[0m\u001b[0m\n\u001b[1;32m---> 29\u001b[1;33m         \u001b[0moutput\u001b[0m \u001b[1;33m=\u001b[0m \u001b[0mintermediate\u001b[0m\u001b[1;33m.\u001b[0m\u001b[0mview\u001b[0m\u001b[1;33m(\u001b[0m\u001b[0minput1_size\u001b[0m\u001b[1;33m[\u001b[0m\u001b[1;36m0\u001b[0m\u001b[1;33m]\u001b[0m\u001b[1;33m,\u001b[0m \u001b[0minput1_size\u001b[0m\u001b[1;33m[\u001b[0m\u001b[1;36m1\u001b[0m\u001b[1;33m]\u001b[0m \u001b[1;33m*\u001b[0m \u001b[0mself\u001b[0m\u001b[1;33m.\u001b[0m\u001b[0moutput_size\u001b[0m\u001b[1;33m,\u001b[0m \u001b[0minput2_size\u001b[0m\u001b[1;33m[\u001b[0m\u001b[1;36m2\u001b[0m\u001b[1;33m]\u001b[0m\u001b[1;33m)\u001b[0m\u001b[1;33m.\u001b[0m\u001b[0mbmm\u001b[0m\u001b[1;33m(\u001b[0m\u001b[0minput2\u001b[0m\u001b[1;33m)\u001b[0m\u001b[1;33m\u001b[0m\u001b[1;33m\u001b[0m\u001b[0m\n\u001b[0m\u001b[0;32m     30\u001b[0m         \u001b[1;31m# (N x (L1 x O) x L2) -> (N x L1 x L2 x O)\u001b[0m\u001b[1;33m\u001b[0m\u001b[1;33m\u001b[0m\u001b[1;33m\u001b[0m\u001b[0m\n\u001b[0;32m     31\u001b[0m         \u001b[0moutput\u001b[0m \u001b[1;33m=\u001b[0m \u001b[0moutput\u001b[0m\u001b[1;33m.\u001b[0m\u001b[0mview\u001b[0m\u001b[1;33m(\u001b[0m\u001b[0minput1_size\u001b[0m\u001b[1;33m[\u001b[0m\u001b[1;36m0\u001b[0m\u001b[1;33m]\u001b[0m\u001b[1;33m,\u001b[0m \u001b[0minput1_size\u001b[0m\u001b[1;33m[\u001b[0m\u001b[1;36m1\u001b[0m\u001b[1;33m]\u001b[0m\u001b[1;33m,\u001b[0m \u001b[0mself\u001b[0m\u001b[1;33m.\u001b[0m\u001b[0moutput_size\u001b[0m\u001b[1;33m,\u001b[0m \u001b[0minput2_size\u001b[0m\u001b[1;33m[\u001b[0m\u001b[1;36m1\u001b[0m\u001b[1;33m]\u001b[0m\u001b[1;33m)\u001b[0m\u001b[1;33m.\u001b[0m\u001b[0mtranspose\u001b[0m\u001b[1;33m(\u001b[0m\u001b[1;36m2\u001b[0m\u001b[1;33m,\u001b[0m \u001b[1;36m3\u001b[0m\u001b[1;33m)\u001b[0m\u001b[1;33m\u001b[0m\u001b[1;33m\u001b[0m\u001b[0m\n",
      "\u001b[1;31mRuntimeError\u001b[0m: [enforce fail at ..\\c10\\core\\CPUAllocator.cpp:73] data. DefaultCPUAllocator: not enough memory: you tried to allocate 10052091524 bytes. Buy new RAM!"
     ]
    }
   ],
   "source": [
    "def lemmatize(text):\n",
    "    return \" \".join([tok.lemma_ for tok in nlp.tokenizer(text) if not tok.is_stop])\n",
    "\n",
    "df['t6_lemmitization'] = df['t5_stopwords_removed'].apply(lambda x:lemmatize(x))\n",
    "df['t6_lemmitization'].head()"
   ]
  },
  {
   "cell_type": "code",
   "execution_count": null,
   "metadata": {},
   "outputs": [],
   "source": [
    "df['t5_stopwords_removed'].head()"
   ]
  },
  {
   "cell_type": "code",
   "execution_count": null,
   "metadata": {},
   "outputs": [],
   "source": [
    "unique = unique_words(df['t3_no_special_char'])\n",
    "print(\"Nr of words: \" + str(len(list(unique))))"
   ]
  },
  {
   "cell_type": "code",
   "execution_count": null,
   "metadata": {},
   "outputs": [],
   "source": [
    "unique = unique_words(df['t5_stopwords_removed'])\n",
    "print(\"Nr of words: \" + str(len(list(unique))))"
   ]
  },
  {
   "cell_type": "code",
   "execution_count": null,
   "metadata": {},
   "outputs": [],
   "source": [
    "unique = unique_words(df['t6_lemmitization'])\n",
    "print(\"Nr of words: \" + str(len(list(unique))))"
   ]
  },
  {
   "cell_type": "code",
   "execution_count": null,
   "metadata": {},
   "outputs": [],
   "source": []
  },
  {
   "cell_type": "code",
   "execution_count": null,
   "metadata": {},
   "outputs": [],
   "source": [
    "df[df._id == \"8139ec1c206e10ba04dde86d3e06f2698e34b0a6\"]['content_coalesce'].values"
   ]
  },
  {
   "cell_type": "code",
   "execution_count": null,
   "metadata": {},
   "outputs": [],
   "source": [
    "# def transform(df):\n",
    "#     df['content_coalesce'] = df.apply(lambda row:remove_accents(row,'content_coalesce'),axis=1)\n",
    "# a = transform(df)\n",
    "# a['content_coalesce'].head()"
   ]
  },
  {
   "cell_type": "code",
   "execution_count": null,
   "metadata": {},
   "outputs": [],
   "source": []
  },
  {
   "cell_type": "code",
   "execution_count": null,
   "metadata": {},
   "outputs": [],
   "source": []
  },
  {
   "cell_type": "code",
   "execution_count": null,
   "metadata": {},
   "outputs": [],
   "source": []
  },
  {
   "cell_type": "code",
   "execution_count": null,
   "metadata": {},
   "outputs": [],
   "source": []
  },
  {
   "cell_type": "code",
   "execution_count": null,
   "metadata": {},
   "outputs": [],
   "source": [
    "#remove punctuations, tabs, etc \n",
    "df.apply(lambda row:space_out_your_text(row['lowered']),axis=1)\n",
    "#Lower case\n",
    "df.apply(lambda row: row['text'].lower(), axis=1)\n",
    "df['removed_num'] = df.apply(lambda row: remove_numbers(row['text']), axis=1)    "
   ]
  },
  {
   "cell_type": "code",
   "execution_count": null,
   "metadata": {},
   "outputs": [],
   "source": [
    "df2['tokenized_sents'] = df2.apply(lambda row: nlp(row['removed_num']), axis=1)\n",
    "df2['tokenized_sents_str'] = df2.tokenized_sents.apply(lambda x:str(x))\n",
    "\n",
    "infreq = freq_dataframe[freq_dataframe['Counts'] < 3 ]['Word'].tolist()\n",
    "\n",
    "\n",
    "df2['removed_infreq'] = df2.tokenized_sents_str.apply(lambda x: remove_stopwords(x,infreq))\n",
    "df2['removed_infreq_str'] = df2.removed_infreq.apply(lambda x:str(x))\n",
    "\n",
    "\n",
    "\n",
    "v = TfidfVectorizer()\n",
    "x = v.fit_transform(df2['removed_infreq_str'])\n",
    "x.todense()\n",
    "len(v.vocabulary_)"
   ]
  }
 ],
 "metadata": {
  "jupytext": {
   "formats": "ipynb,py:percent"
  },
  "kernelspec": {
   "display_name": "Python 3",
   "language": "python",
   "name": "python3"
  },
  "language_info": {
   "codemirror_mode": {
    "name": "ipython",
    "version": 3
   },
   "file_extension": ".py",
   "mimetype": "text/x-python",
   "name": "python",
   "nbconvert_exporter": "python",
   "pygments_lexer": "ipython3",
   "version": "3.7.6"
  },
  "toc": {
   "base_numbering": 1,
   "nav_menu": {},
   "number_sections": true,
   "sideBar": true,
   "skip_h1_title": false,
   "title_cell": "Table of Contents",
   "title_sidebar": "Contents",
   "toc_cell": false,
   "toc_position": {},
   "toc_section_display": true,
   "toc_window_display": false
  },
  "varInspector": {
   "cols": {
    "lenName": 16,
    "lenType": 16,
    "lenVar": 40
   },
   "kernels_config": {
    "python": {
     "delete_cmd_postfix": "",
     "delete_cmd_prefix": "del ",
     "library": "var_list.py",
     "varRefreshCmd": "print(var_dic_list())"
    },
    "r": {
     "delete_cmd_postfix": ") ",
     "delete_cmd_prefix": "rm(",
     "library": "var_list.r",
     "varRefreshCmd": "cat(var_dic_list()) "
    }
   },
   "types_to_exclude": [
    "module",
    "function",
    "builtin_function_or_method",
    "instance",
    "_Feature"
   ],
   "window_display": false
  }
 },
 "nbformat": 4,
 "nbformat_minor": 4
}
