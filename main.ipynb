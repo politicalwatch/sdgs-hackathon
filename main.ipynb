{
 "cells": [
  {
   "cell_type": "markdown",
   "metadata": {},
   "source": [
    "# Import libraries"
   ]
  },
  {
   "cell_type": "code",
   "execution_count": 2,
   "metadata": {},
   "outputs": [],
   "source": [
    "import pandas as pd\n",
    "import numpy as np\n",
    "import re"
   ]
  },
  {
   "cell_type": "markdown",
   "metadata": {},
   "source": [
    "# Define helper functions"
   ]
  },
  {
   "cell_type": "code",
   "execution_count": null,
   "metadata": {},
   "outputs": [],
   "source": [
    "def space_out_your_text(row):\n",
    "    doc = nlp(row)\n",
    "    cleaned = \"\"\n",
    "    for token in doc:\n",
    "        if token.pos_ not in (\"PUNCT\",\"ADP\",\"SCONJ\",\"PRON\",\"CCONJ\"):\n",
    "            #print(token.text, token.lemma_, token.pos_, token.dep_)\n",
    "            cleaned+=token.lemma_+\" \"\n",
    "    return cleaned\n",
    "\n",
    "#remove special characters\n",
    "def replaced_charac(row):\n",
    "    for word, initial in {\".\":\" \", \"-\":\" \",\"/\":\" \",\"@\":\" \",\"#\":\" \",\"(\":\" \",\")\":\" \",'\"' : \"\"}.items():\n",
    "        row = row.replace(word, initial) \n",
    "    return row\n",
    "\n",
    "def remove_stopwords(row, stopwords):\n",
    "    removed_stopwords = [word for word in row.split(\" \") if word not in stopwords and word.replace(\" \",\"\")!=\"\"]\n",
    "    return removed_stopwords"
   ]
  },
  {
   "cell_type": "markdown",
   "metadata": {},
   "source": [
    "# Apply transformations one-by-one"
   ]
  },
  {
   "cell_type": "code",
   "execution_count": null,
   "metadata": {},
   "outputs": [],
   "source": [
    "#remove punctuations, tabs, etc \n",
    "df.apply(lambda row:space_out_your_text(row['lowered']),axis=1)\n",
    "#Lower case\n",
    "df.apply(lambda row: row['text'].lower(), axis=1)"
   ]
  },
  {
   "cell_type": "code",
   "execution_count": null,
   "metadata": {},
   "outputs": [],
   "source": []
  },
  {
   "cell_type": "code",
   "execution_count": null,
   "metadata": {},
   "outputs": [],
   "source": []
  }
 ],
 "metadata": {
  "kernelspec": {
   "display_name": "Python 3",
   "language": "python",
   "name": "python3"
  },
  "language_info": {
   "codemirror_mode": {
    "name": "ipython",
    "version": 3
   },
   "file_extension": ".py",
   "mimetype": "text/x-python",
   "name": "python",
   "nbconvert_exporter": "python",
   "pygments_lexer": "ipython3",
   "version": "3.7.6"
  },
  "toc": {
   "base_numbering": 1,
   "nav_menu": {},
   "number_sections": true,
   "sideBar": true,
   "skip_h1_title": false,
   "title_cell": "Table of Contents",
   "title_sidebar": "Contents",
   "toc_cell": false,
   "toc_position": {},
   "toc_section_display": true,
   "toc_window_display": false
  },
  "varInspector": {
   "cols": {
    "lenName": 16,
    "lenType": 16,
    "lenVar": 40
   },
   "kernels_config": {
    "python": {
     "delete_cmd_postfix": "",
     "delete_cmd_prefix": "del ",
     "library": "var_list.py",
     "varRefreshCmd": "print(var_dic_list())"
    },
    "r": {
     "delete_cmd_postfix": ") ",
     "delete_cmd_prefix": "rm(",
     "library": "var_list.r",
     "varRefreshCmd": "cat(var_dic_list()) "
    }
   },
   "types_to_exclude": [
    "module",
    "function",
    "builtin_function_or_method",
    "instance",
    "_Feature"
   ],
   "window_display": false
  }
 },
 "nbformat": 4,
 "nbformat_minor": 4
}
